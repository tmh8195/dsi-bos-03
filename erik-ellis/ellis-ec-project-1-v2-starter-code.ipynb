{
 "cells": [
  {
   "cell_type": "markdown",
   "metadata": {},
   "source": [
    "<img src=\"http://imgur.com/1ZcRyrc.png\" style=\"float: left; margin: 15px; height: 80px\">\n",
    "\n",
    "# Project 1\n",
    "\n",
    "### Building \"Pokemon Stay\"\n",
    "\n",
    "---\n",
    "You are an analyst at a \"scrappy\" online gaming company that specializes in remakes of last year's fads.\n",
    "\n",
    "Your boss, who runs the product development team, is convinced that Pokemon Go's fatal flaw was that you had to actually move around outside. She has design mock-ups for a new game called Pokemon Stay: in this version players still need to move, but just from website to website. Pokemon gyms are now popular online destinations, and catching Pokemon in the \"wild\" simply requires browsing the internet for hours in the comfort of your home.\n",
    "\n",
    "She wants you to program a prototype version of the game, and analyze the planned content to help the team calibrate the design."
   ]
  },
  {
   "cell_type": "markdown",
   "metadata": {},
   "source": [
    "#### Package imports\n",
    "\n",
    "The pprint package below is the only package imported here, and it's not even strictly required to do any of the project. Printing python variables and objects with pprint can help to format them in a \"prettier\" way."
   ]
  },
  {
   "cell_type": "code",
   "execution_count": 119,
   "metadata": {
    "collapsed": true
   },
   "outputs": [],
   "source": [
    "from pprint import pprint"
   ]
  },
  {
   "cell_type": "markdown",
   "metadata": {},
   "source": [
    "<img src=\"http://imgur.com/l5NasQj.png\" style=\"float: left; margin: 25px 15px 0px 0px; height: 25px\">\n",
    "\n",
    "## 1. Defining a player\n",
    "\n",
    "---\n",
    "\n",
    "The player variables are:\n",
    "\n",
    "    player_id : id code unique to each player (integer)\n",
    "    player_name : entered name of the player (string)\n",
    "    time_played : number of time played the game in minutes (float)\n",
    "    player_pokemon: the player's captured pokemon (dictionary)\n",
    "    gyms_visited: ids of the gyms that a player has visited (list)\n",
    "    \n",
    "Create the components for a player object by defining each of these variables. The dictionary and list variables should just be defined as empty; you can use any (correctly typed) values for the others."
   ]
  },
  {
   "cell_type": "code",
   "execution_count": 379,
   "metadata": {
    "collapsed": true
   },
   "outputs": [],
   "source": [
    "player_id = 1000\n",
    "player_name = 'Jim Mann'\n",
    "time_played = 0.00\n",
    "player_pokemon = {}\n",
    "gyms_visited = []\n"
   ]
  },
  {
   "cell_type": "markdown",
   "metadata": {},
   "source": [
    "<img src=\"http://imgur.com/l5NasQj.png\" style=\"float: left; margin: 25px 15px 0px 0px; height: 25px\">\n",
    "\n",
    "## 2. Defining \"gym\" locations\n",
    "\n"
   ]
  },
  {
   "cell_type": "code",
   "execution_count": 380,
   "metadata": {
    "collapsed": false
   },
   "outputs": [
    {
     "name": "stdout",
     "output_type": "stream",
     "text": [
      "['stackoverflow.com', 'github.com']\n"
     ]
    }
   ],
   "source": [
    "gym_locations = ['reddit.com','amazon.com','twitter.com', 'linkedin.com', \n",
    "                 'ebay.com','netflix.com', 'alcatraz', 'stackoverflow.com', 'github.com', 'quora.com', 'pacific_beach']\n",
    "gyms_visited.append('stackoverflow.com')\n",
    "gyms_visited.append('github.com')\n",
    "\n",
    "pprint(gyms_visited)\n"
   ]
  },
  {
   "cell_type": "markdown",
   "metadata": {},
   "source": [
    "**Two .append operations were needed because .extend wouldn't work."
   ]
  },
  {
   "cell_type": "markdown",
   "metadata": {},
   "source": [
    "<img src=\"http://imgur.com/l5NasQj.png\" style=\"float: left; margin: 25px 15px 0px 0px; height: 25px\">\n",
    "\n",
    "## 3. Create a pokedex\n",
    "\n"
   ]
  },
  {
   "cell_type": "code",
   "execution_count": 367,
   "metadata": {
    "collapsed": false
   },
   "outputs": [
    {
     "name": "stdout",
     "output_type": "stream",
     "text": [
      "{1: {'attack': 4,\n",
      "     'defense': 4,\n",
      "     'pokemon_hp': 5,\n",
      "     'pokemon_name': 'charmander',\n",
      "     'pokemon_type': 'fire',\n",
      "     'special_attack': 5,\n",
      "     'special_defense': 5,\n",
      "     'speed': 4},\n",
      " 2: {'attack': 3,\n",
      "     'defense': 5,\n",
      "     'pokemon_hp': 3,\n",
      "     'pokemon_name': 'squirtle',\n",
      "     'pokemon_type': 'water',\n",
      "     'special_attack': 4,\n",
      "     'special_defense': 5,\n",
      "     'speed': 5},\n",
      " 3: {'attack': 5,\n",
      "     'defense': 3,\n",
      "     'pokemon_hp': 4,\n",
      "     'pokemon_name': 'bulbasaur',\n",
      "     'pokemon_type': 'poison',\n",
      "     'special_attack': 5,\n",
      "     'special_defense': 4,\n",
      "     'speed': 3}}\n"
     ]
    }
   ],
   "source": [
    "\n",
    "pokedex = {\n",
    "            1: {\n",
    "                'pokemon_name': 'charmander',\n",
    "                'pokemon_type' : 'fire',\n",
    "                'pokemon_hp' : 5,\n",
    "                'attack' : 4,\n",
    "                'defense' : 4,\n",
    "                'special_attack' : 5,\n",
    "                'special_defense' : 5,\n",
    "                'speed' : 4\n",
    "            },\n",
    "            2: {\n",
    "                'pokemon_name': 'squirtle',\n",
    "                'pokemon_type' : 'water',\n",
    "                'pokemon_hp' : 3,\n",
    "                'attack' : 3,\n",
    "                'defense' : 5,\n",
    "                'special_attack' : 4,\n",
    "                'special_defense' : 5,\n",
    "                'speed' : 5\n",
    "            },    \n",
    "            3: {\n",
    "                'pokemon_name': 'bulbasaur',\n",
    "                'pokemon_type' : 'poison',\n",
    "                'pokemon_hp' : 4,\n",
    "                'attack' : 5,\n",
    "                'defense' : 3,\n",
    "                'special_attack' : 5,\n",
    "                'special_defense' : 4,\n",
    "                'speed' : 3\n",
    "            }\n",
    "            }\n",
    "pprint(pokedex)"
   ]
  },
  {
   "cell_type": "markdown",
   "metadata": {},
   "source": [
    "<img src=\"http://imgur.com/l5NasQj.png\" style=\"float: left; margin: 25px 15px 0px 0px; height: 25px\">\n",
    "\n",
    "## 4. Create a data structure for players\n",
    "\n",
    "---\n",
    "\n",
    "### 4.1 \n",
    "\n",
    "In order to maintain a database of multiple players, create a dictionary that keeps track of players indexed by `player_id`. \n",
    "\n",
    "The keys of the dictionary will be `player_id` and values will be dictionaries containing each player's variables (from question 1). \n",
    "\n",
    "Construct the `players` dictionary and insert the player that you defined in question 1, then print `players`."
   ]
  },
  {
   "cell_type": "code",
   "execution_count": 368,
   "metadata": {
    "collapsed": false
   },
   "outputs": [
    {
     "name": "stdout",
     "output_type": "stream",
     "text": [
      "{1000: {'gyms_visited': ['stackoverflow.com', 'github.com'],\n",
      "        'player_id': 1000,\n",
      "        'player_name': 'Jim Mann',\n",
      "        'player_pokemon': {},\n",
      "        'time_played': 0.0}}\n"
     ]
    }
   ],
   "source": [
    "players = {\n",
    "        1000:  {  'player_id' : 1000,\n",
    "        'player_name' : 'Jim Mann',\n",
    "        'time_played' : 0.00,\n",
    "        'player_pokemon' : {},\n",
    "        'gyms_visited' : ['stackoverflow.com', 'github.com']\n",
    "            }\n",
    "}\n",
    "pprint(players)"
   ]
  },
  {
   "cell_type": "markdown",
   "metadata": {},
   "source": [
    "---\n",
    "\n",
    "### 4.2\n",
    "\n",
    "Create a new player with `player_id = 2` in the `players` dictionary. Leave the `'player_pokemon'` dictionary empty. Append `'alcatraz'` and `'pacific_beach'` to the `'gyms_visited'` list for player 2.\n",
    "\n",
    "Print the `players` dictionary with the new player inserted."
   ]
  },
  {
   "cell_type": "code",
   "execution_count": 369,
   "metadata": {
    "collapsed": false
   },
   "outputs": [
    {
     "name": "stdout",
     "output_type": "stream",
     "text": [
      "{2: {'gyms_visited': ['alcatraz', 'pacific_beach'],\n",
      "     'player_id': 2,\n",
      "     'player_name': 'Frank Black',\n",
      "     'player_pokemon': {},\n",
      "     'time_played': 0.45},\n",
      " 1000: {'gyms_visited': ['stackoverflow.com', 'github.com'],\n",
      "        'player_id': 1000,\n",
      "        'player_name': 'Jim Mann',\n",
      "        'player_pokemon': {},\n",
      "        'time_played': 0.0}}\n"
     ]
    }
   ],
   "source": [
    "players = {\n",
    "        1000:  {  'player_id' : 1000,\n",
    "        'player_name' : 'Jim Mann',\n",
    "        'time_played' : 0.00,\n",
    "        'player_pokemon' : {},\n",
    "        'gyms_visited' : ['stackoverflow.com', 'github.com']\n",
    "            },\n",
    "        2: { 'player_id' : 2,\n",
    "        'player_name' :'Frank Black',\n",
    "        'time_played' : 0.45,\n",
    "        'player_pokemon' : {}, \n",
    "        'gyms_visited' : ['alcatraz', 'pacific_beach']\n",
    "            }}\n",
    "pprint(players)"
   ]
  },
  {
   "cell_type": "markdown",
   "metadata": {},
   "source": [
    "<img src=\"http://imgur.com/l5NasQj.png\" style=\"float: left; margin: 25px 15px 0px 0px; height: 25px\">\n",
    "\n",
    "## 5. Add captured pokemon for each player\n",
    "\n",
    "Give player 1 a squirtle. Give player 2 charmander and a bulbasaur.\n",
    "\n",
    "Print the players dictionary after adding the pokemon for each player.\n"
   ]
  },
  {
   "cell_type": "code",
   "execution_count": 370,
   "metadata": {
    "collapsed": false
   },
   "outputs": [
    {
     "name": "stdout",
     "output_type": "stream",
     "text": [
      "{2: {'gyms_visited': ['alcatraz', 'pacific_beach'],\n",
      "     'player_id': 2,\n",
      "     'player_name': 'Frank Black',\n",
      "     'player_pokemon': {1: {'attack': 4,\n",
      "                            'defense': 4,\n",
      "                            'pokemon_hp': 5,\n",
      "                            'pokemon_name': 'charmander',\n",
      "                            'pokemon_type': 'fire',\n",
      "                            'special_attack': 5,\n",
      "                            'special_defense': 5,\n",
      "                            'speed': 4},\n",
      "                        3: {'attack': 5,\n",
      "                            'defense': 3,\n",
      "                            'pokemon_hp': 4,\n",
      "                            'pokemon_name': 'bulbasaur',\n",
      "                            'pokemon_type': 'poison',\n",
      "                            'special_attack': 5,\n",
      "                            'special_defense': 4,\n",
      "                            'speed': 3}},\n",
      "     'time_played': 0.45},\n",
      " 1000: {'gyms_visited': ['stackoverflow.com', 'github.com'],\n",
      "        'player_id': 1000,\n",
      "        'player_name': 'Jim Mann',\n",
      "        'player_pokemon': {'attack': 3,\n",
      "                           'defense': 5,\n",
      "                           'pokemon_hp': 3,\n",
      "                           'pokemon_name': 'squirtle',\n",
      "                           'pokemon_type': 'water',\n",
      "                           'special_attack': 4,\n",
      "                           'special_defense': 5,\n",
      "                           'speed': 5},\n",
      "        'time_played': 0.0}}\n"
     ]
    }
   ],
   "source": [
    "players[1000]['player_pokemon'] = pokedex[2]\n",
    "players[2]['player_pokemon'][1] = pokedex[1]\n",
    "players[2]['player_pokemon'][3] = pokedex[3]\n",
    "pprint(players)"
   ]
  },
  {
   "cell_type": "markdown",
   "metadata": {},
   "source": [
    "**-- Note: player_id 1000's pokemon did not pass as a keyed dictionary of 2 :{}. Trying to pass to players[1000]['player_pokemon'][2] resulted in a 'redundancy in dict' error."
   ]
  },
  {
   "cell_type": "markdown",
   "metadata": {},
   "source": [
    "\n",
    "\n",
    "## 6. What gyms have players visited?\n",
    "\n",
    "---\n",
    "<img src=\"http://imgur.com/l5NasQj.png\" style=\"float: left; margin: 25px 15px 0px 0px; height: 25px\">\n",
    "### 6.1\n",
    "\n",
    "Write a for-loop that:\n",
    "\n",
    "1. Iterates through the `pokemon_gyms` list of gym locations you defined before.\n",
    "2. For each gym, iterate through each player in the `players` dictionary with a second, internal for-loop.\n",
    "3. If the player has visited the gym, print out \"[player] has visited [gym location].\", filling in [player] and [gym location] with the current player's name and current gym location."
   ]
  },
  {
   "cell_type": "code",
   "execution_count": 371,
   "metadata": {
    "collapsed": false,
    "scrolled": true
   },
   "outputs": [
    {
     "name": "stdout",
     "output_type": "stream",
     "text": [
      "Player Frank Black has visited alcatraz gym\n",
      "Player Jim Mann has visited stackoverflow.com gym\n",
      "Player Jim Mann has visited github.com gym\n",
      "Player Frank Black has visited pacific_beach gym\n"
     ]
    }
   ],
   "source": [
    "for gym in gym_locations:\n",
    "    for player_id in players:\n",
    "        \n",
    "        if gym in players[player_id]['gyms_visited']:\n",
    "            print 'Player', players[player_id]['player_name'], 'has visited', gym, 'gym'\n",
    "        \n",
    "            "
   ]
  },
  {
   "cell_type": "markdown",
   "metadata": {},
   "source": [
    "<img src=\"http://imgur.com/xDpSobf.png\" style=\"float: left; margin: 25px 15px 0px 0px; height: 25px\">\n",
    "### 6.2\n",
    "\n",
    "How many times did that loop run? If you have N gyms and also N players, how many times would it run as a function of N?\n",
    "**-- Loop ran 22 times: 11 gyms * 2 players. Loop would run N**2 for N gyms and N players.\n",
    "\n",
    "Can you think of a more efficient way to accomplish the same thing? \n",
    "**-- A list or dictionary comprehension would perhaps be more efficient"
   ]
  },
  {
   "cell_type": "markdown",
   "metadata": {},
   "source": [
    "<img src=\"http://imgur.com/l5NasQj.png\" style=\"float: left; margin: 25px 15px 0px 0px; height: 25px\">\n",
    "\n",
    "## 7. Calculate player \"power\".\n",
    "\n",
    "---\n",
    "\n",
    "Define a function that will calculate a player's \"power\". Player power is defined as the sum of the base statistics all of their pokemon.\n",
    "\n",
    "**Tried a nested for loop as in prior problem, but with the addition of the summing operation. The function seems to looking at the wrong key in the pokedex, and errored out on the str."
   ]
  },
  {
   "cell_type": "code",
   "execution_count": 372,
   "metadata": {
    "collapsed": false,
    "scrolled": true
   },
   "outputs": [
    {
     "ename": "KeyError",
     "evalue": "'pokemon_type'",
     "output_type": "error",
     "traceback": [
      "\u001b[0;31m---------------------------------------------------------------------------\u001b[0m",
      "\u001b[0;31mKeyError\u001b[0m                                  Traceback (most recent call last)",
      "\u001b[0;32m<ipython-input-372-5bd2c4ddece8>\u001b[0m in \u001b[0;36m<module>\u001b[0;34m()\u001b[0m\n\u001b[1;32m      9\u001b[0m     \u001b[1;32mreturn\u001b[0m \u001b[0mplayer_power\u001b[0m\u001b[1;33m\u001b[0m\u001b[0m\n\u001b[1;32m     10\u001b[0m \u001b[1;33m\u001b[0m\u001b[0m\n\u001b[0;32m---> 11\u001b[0;31m \u001b[0mpower_ag\u001b[0m\u001b[1;33m(\u001b[0m\u001b[0mplayers\u001b[0m\u001b[1;33m,\u001b[0m \u001b[0mpokedex\u001b[0m\u001b[1;33m,\u001b[0m \u001b[1;36m1000\u001b[0m\u001b[1;33m)\u001b[0m\u001b[1;33m\u001b[0m\u001b[0m\n\u001b[0m\u001b[1;32m     12\u001b[0m \u001b[0mpower_ag\u001b[0m\u001b[1;33m(\u001b[0m\u001b[0mplayers\u001b[0m\u001b[1;33m,\u001b[0m \u001b[0mpokedex\u001b[0m\u001b[1;33m,\u001b[0m \u001b[1;36m2\u001b[0m\u001b[1;33m)\u001b[0m\u001b[1;33m\u001b[0m\u001b[0m\n\u001b[1;32m     13\u001b[0m \u001b[1;32mprint\u001b[0m \u001b[0mplayer_power\u001b[0m\u001b[1;33m\u001b[0m\u001b[0m\n",
      "\u001b[0;32m<ipython-input-372-5bd2c4ddece8>\u001b[0m in \u001b[0;36mpower_ag\u001b[0;34m(players, pokedex, player_id)\u001b[0m\n\u001b[1;32m      4\u001b[0m         \u001b[1;32mfor\u001b[0m \u001b[0mpokedex\u001b[0m \u001b[1;32min\u001b[0m \u001b[0mplayers\u001b[0m\u001b[1;33m[\u001b[0m\u001b[0mplayer_id\u001b[0m\u001b[1;33m]\u001b[0m\u001b[1;33m[\u001b[0m\u001b[1;34m'player_pokemon'\u001b[0m\u001b[1;33m]\u001b[0m\u001b[1;33m:\u001b[0m\u001b[1;33m\u001b[0m\u001b[0m\n\u001b[1;32m      5\u001b[0m \u001b[1;33m\u001b[0m\u001b[0m\n\u001b[0;32m----> 6\u001b[0;31m             \u001b[0mplayer_power\u001b[0m \u001b[1;33m+=\u001b[0m \u001b[0mplayer_pokemon\u001b[0m\u001b[1;33m[\u001b[0m\u001b[0mpokemon\u001b[0m\u001b[1;33m]\u001b[0m\u001b[1;33m[\u001b[0m\u001b[1;34m'attack'\u001b[0m\u001b[1;33m]\u001b[0m \u001b[1;33m+\u001b[0m \u001b[0mplayer_pokemon\u001b[0m\u001b[1;33m[\u001b[0m\u001b[0mpokemon\u001b[0m\u001b[1;33m]\u001b[0m\u001b[1;33m[\u001b[0m\u001b[1;34m'defense'\u001b[0m\u001b[1;33m]\u001b[0m \u001b[1;33m+\u001b[0m \u001b[0mplayer_pokemon\u001b[0m\u001b[1;33m[\u001b[0m\u001b[0mpokemon\u001b[0m\u001b[1;33m]\u001b[0m\u001b[1;33m[\u001b[0m\u001b[1;34m'special attack'\u001b[0m\u001b[1;33m]\u001b[0m \u001b[1;33m+\u001b[0m \u001b[0mplayer_pokemon\u001b[0m\u001b[1;33m[\u001b[0m\u001b[0mpokemon\u001b[0m\u001b[1;33m]\u001b[0m\u001b[1;33m[\u001b[0m\u001b[1;34m'special defense'\u001b[0m\u001b[1;33m]\u001b[0m\u001b[1;33m\u001b[0m\u001b[0m\n\u001b[0m\u001b[1;32m      7\u001b[0m \u001b[1;33m\u001b[0m\u001b[0m\n\u001b[1;32m      8\u001b[0m         \u001b[1;32mprint\u001b[0m\u001b[1;33m(\u001b[0m\u001b[1;33m[\u001b[0m\u001b[1;34m'player_name'\u001b[0m\u001b[1;33m]\u001b[0m \u001b[1;33m+\u001b[0m \u001b[1;34m\"'s power is\"\u001b[0m \u001b[1;33m+\u001b[0m \u001b[1;33m[\u001b[0m\u001b[1;34m'player_power'\u001b[0m\u001b[1;33m]\u001b[0m\u001b[1;33m)\u001b[0m\u001b[1;33m\u001b[0m\u001b[0m\n",
      "\u001b[0;31mKeyError\u001b[0m: 'pokemon_type'"
     ]
    }
   ],
   "source": [
    "def power_ag(players, pokedex, player_id):\n",
    "    for player_id in players:\n",
    "        player_power = 0\n",
    "        for pokedex in players[player_id]['player_pokemon']:\n",
    "            \n",
    "            player_power += player_pokemon[pokemon]['attack'] + player_pokemon[pokemon]['defense'] + player_pokemon[pokemon]['special attack'] + player_pokemon[pokemon]['special defense'] \n",
    "        \n",
    "        print(['player_name'] + \"'s power is\" + ['player_power'])\n",
    "    return player_power\n",
    "\n",
    "power_ag(players, pokedex, 1000)\n",
    "power_ag(players, pokedex, 2)\n",
    "print player_power"
   ]
  },
  {
   "cell_type": "markdown",
   "metadata": {
    "collapsed": true
   },
   "source": [
    "<img src=\"http://imgur.com/l5NasQj.png\" style=\"float: left; margin: 25px 15px 0px 0px; height: 25px\">\n",
    "\n",
    "## 8. Load a pokedex file containing all the pokemon\n",
    "\n",
    "---\n",
    "\n",
    "### 8.1\n",
    "\n",
    "While you were putting together the prototype code, your colleagues were preparing a dataset of Pokemon and their attributes. (This was a rush job, so they may have picked some crazy values for some...)\n",
    "\n",
    "**Absolutely unclear on this process, I would have used a DataFrame, but that was beyond the parameter of the work order.\n",
    "\n",
    "    ['PokedexNumber', 'Name', 'Type', 'Total', 'HP', 'Attack', 'Defense', 'SpecialAttack', 'SpecialDefense', 'Speed']\n",
    "    [1.0, 'Bulbasaur', 'GrassPoison', 318.0, 45.0, 49.0, 49.0, 65.0, 65.0, 45.0]\n",
    "    [2.0, 'Ivysaur', 'GrassPoison', 405.0, 60.0, 62.0, 63.0, 80.0, 80.0, 60.0]"
   ]
  },
  {
   "cell_type": "code",
   "execution_count": null,
   "metadata": {
    "collapsed": false
   },
   "outputs": [],
   "source": [
    "# Code to read in pokedex info\n",
    "raw_pd = ''\n",
    "pokedex_file = 'pokedex_basic_ii.csv'\n",
    "with open(pokedex_file, 'r') as f:\n",
    "    raw_pd = f.read()\n",
    "    for row in raw_pd:\n",
    "        row = [x for x in row.split('\\n')]\n",
    "    for col in raw_pd:\n",
    "        col = [x for x in col.split(',')]\n",
    "\n",
    "type(raw_pd)\n",
    "#the pokedex string is assigned to the raw_pd variable"
   ]
  },
  {
   "cell_type": "code",
   "execution_count": null,
   "metadata": {
    "collapsed": false
   },
   "outputs": [],
   "source": [
    "print raw_pd"
   ]
  },
  {
   "cell_type": "code",
   "execution_count": null,
   "metadata": {
    "collapsed": false
   },
   "outputs": [],
   "source": [
    "import numpy as np\n",
    "data_pd = np.asarray(raw_pd)\n",
    "\n",
    "type(data_pd)"
   ]
  },
  {
   "cell_type": "markdown",
   "metadata": {
    "collapsed": false
   },
   "source": [
    "**Just results in a 0-d array."
   ]
  },
  {
   "cell_type": "markdown",
   "metadata": {},
   "source": [
    "<img src=\"http://imgur.com/xDpSobf.png\" style=\"float: left; margin: 25px 15px 0px 0px; height: 25px\">\n",
    "\n",
    "### 8.2 Parse the raw pokedex with list comprehensions\n",
    "\n",
    "---\n",
    "\n",
    "Perform the same parsing as above, but **using only a single list comprehension** instead of for loops. You may have nested list comprehensions within the main list comprehension! The output should be exactly the same."
   ]
  },
  {
   "cell_type": "markdown",
   "metadata": {
    "collapsed": false
   },
   "source": [
    "    **Unable to attempt due to problems with clarity in the previous example."
   ]
  },
  {
   "cell_type": "markdown",
   "metadata": {},
   "source": [
    "<img src=\"http://imgur.com/l5NasQj.png\" style=\"float: left; margin: 25px 15px 0px 0px; height: 25px\">\n",
    "\n",
    "## 9. Write a function to generate the full pokedex\n",
    "\n",
    "---\n",
    "\n",
    "Write a function that recreates the pokedex you made before, but with the data read in from the full pokemon file. The `PokedexNumber` should be used as the `pokemon_id` key values for the dictionary of pokemon."
   ]
  },
  {
   "cell_type": "markdown",
   "metadata": {
    "collapsed": false,
    "scrolled": true
   },
   "source": [
    "    **Unable to attempt due to problems with clarity in the previous example."
   ]
  },
  {
   "cell_type": "markdown",
   "metadata": {},
   "source": [
    "<img src=\"http://i.imgur.com/GCAf1UX.png\" style=\"float: left; margin: 25px 15px 0px 0px; height: 25px\">\n",
    "\n",
    "## 10. Write a function to generate a \"filtered\" pokedex\n",
    "---\n",
    "Your function should:\n",
    "1. Take the parsed pokedex information you created above as an argument.\n",
    "1. Take a dictionary as a parameter with keys matching the features of the Pokedex, filtering by exact match for string type values, and/or filter continuous variables specified value that is greater than or equal to the dictionary key parameter.\n",
    "1. Return multiple elements from the Pokedex\n",
    "\n",
    "    **Unable to attempt due to problems with clarity in the previous example."
   ]
  },
  {
   "cell_type": "code",
   "execution_count": null,
   "metadata": {
    "collapsed": false
   },
   "outputs": [],
   "source": []
  },
  {
   "cell_type": "markdown",
   "metadata": {
    "collapsed": true
   },
   "source": [
    "\n",
    "## 9. Descriptive statistics on the prototype pokedex\n",
    "\n",
    "<img src=\"http://imgur.com/l5NasQj.png\" style=\"float: left; margin: 25px 15px 0px 0px; height: 25px\">\n",
    "### 9.1\n",
    "\n",
    "What is the population mean and standard deviation of the \"Total\" attribute for all characters in the Pokedex?\n",
    "\n"
   ]
  },
  {
   "cell_type": "markdown",
   "metadata": {},
   "source": [
    "**Answers derived via Excel descriptive statistics function: mean = 435.13, standard deviation = 120.04."
   ]
  },
  {
   "cell_type": "code",
   "execution_count": null,
   "metadata": {
    "collapsed": true
   },
   "outputs": [],
   "source": []
  },
  {
   "cell_type": "markdown",
   "metadata": {},
   "source": [
    "<img src=\"http://imgur.com/l5NasQj.png\" style=\"float: left; margin: 25px 15px 0px 0px; height: 25px\">\n",
    "### 9.2\n",
    "\n",
    "The game is no fun if the characters are wildly unbalanced! Are any characters \"overpowered\", which we'll define as having a \"Total\" more than three standard deviations from the population mean?"
   ]
  },
  {
   "cell_type": "markdown",
   "metadata": {
    "collapsed": false
   },
   "source": [
    "**Answers derived from Excel descriptive statistics: Stdev 120.04 * 3 = +/-360.12 or 99.7% from the mean.\n",
    "\n",
    "**Pokedex:150\tMewtwoMega Mewtwo X\tPsychicFighting\tTotal = 800.0 can overpower other Pokemon with a high probability.\n",
    "\n",
    "**Pokedex: 150\tMewtwoMega Mewtwo Y\tPsychic\tTotal = 780.0\t\n",
    "and\n",
    "Pokedex: 384\tRayquazaMega Rayquaza\tDragonFlying\tTotal = 780.0\n",
    "both approach the 795.25 value, and are worth looking into.\n",
    "\n",
    "**No other Pokemon falls below a Total of 75.01 to be easily overpowered.\n",
    "\n"
   ]
  },
  {
   "cell_type": "markdown",
   "metadata": {},
   "source": [
    "\n",
    "\n",
    "## 10. Calibrate the frequency of Pokemon\n",
    "\n",
    "The design team wants you to make the powerful Pokemon rare, and the weaklings more common. How would you set the probability $p_i$ of finding Pokemon *i* each time a player visits a gym?\n",
    "\n",
    "Write a function that takes in a Pokedex number and returns a value $p_i$ for that character.\n",
    "\n",
    "Hint: there are many ways you could do this. What do _you_ think makes sense? Start with simplifying assumptions: for example, you could assume that the probabilities of encountering any two Pokemon on one visit to a gym are independent of each other."
   ]
  },
  {
   "cell_type": "markdown",
   "metadata": {
    "collapsed": false
   },
   "source": [
    "**Compound Poisson Distribution\n",
    "<img src=\"2017-04-19.png\" style=\"float: left; margin: 25px 15px 0px 0px; height: 250px\">\n",
    "\n",
    "**Suppose that N is a random variable whose distribution is a Poisson distribution with expected value λ, and that \n",
    "X_{1},X_{2},X_{3}... are identically distributed random variables that are mutually independent and also independent of N. Then the probability distribution of the sum of N i.i.d. random variables conditioned on the number of these variables, has a well-defined distribution. In the case N = 0, then the value of Y is 0, so that then Y | N = 0 has a degenerate distribution.\n",
    "\n",
    "**This would increase player experience by making lower mid-range pokemon more probable to be available to train up, and the weakest pokemon slightly less likely."
   ]
  },
  {
   "cell_type": "code",
   "execution_count": null,
   "metadata": {
    "collapsed": true
   },
   "outputs": [],
   "source": []
  }
 ],
 "metadata": {
  "anaconda-cloud": {},
  "kernelspec": {
   "display_name": "Python 2",
   "language": "python",
   "name": "python2"
  },
  "language_info": {
   "codemirror_mode": {
    "name": "ipython",
    "version": 2
   },
   "file_extension": ".py",
   "mimetype": "text/x-python",
   "name": "python",
   "nbconvert_exporter": "python",
   "pygments_lexer": "ipython2",
   "version": "2.7.13"
  }
 },
 "nbformat": 4,
 "nbformat_minor": 0
}
