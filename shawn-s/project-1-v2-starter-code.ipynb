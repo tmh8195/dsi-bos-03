{
 "cells": [
  {
   "cell_type": "markdown",
   "metadata": {
    "deletable": true,
    "editable": true
   },
   "source": [
    "<img src=\"http://imgur.com/1ZcRyrc.png\" style=\"float: left; margin: 15px; height: 80px\">\n",
    "\n",
    "# Project 1\n",
    "\n",
    "### Building \"Pokemon Stay\"\n",
    "\n",
    "---\n",
    "You are an analyst at a \"scrappy\" online gaming company that specializes in remakes of last year's fads.\n",
    "\n",
    "Your boss, who runs the product development team, is convinced that Pokemon Go's fatal flaw was that you had to actually move around outside. She has design mock-ups for a new game called Pokemon Stay: in this version players still need to move, but just from website to website. Pokemon gyms are now popular online destinations, and catching Pokemon in the \"wild\" simply requires browsing the internet for hours in the comfort of your home.\n",
    "\n",
    "She wants you to program a prototype version of the game, and analyze the planned content to help the team calibrate the design."
   ]
  },
  {
   "cell_type": "markdown",
   "metadata": {
    "deletable": true,
    "editable": true
   },
   "source": [
    "#### Package imports\n",
    "\n",
    "The pprint package below is the only package imported here, and it's not even strictly required to do any of the project. Printing python variables and objects with pprint can help to format them in a \"prettier\" way."
   ]
  },
  {
   "cell_type": "code",
   "execution_count": 25,
   "metadata": {
    "collapsed": true,
    "deletable": true,
    "editable": true
   },
   "outputs": [],
   "source": [
    "from pprint import pprint"
   ]
  },
  {
   "cell_type": "markdown",
   "metadata": {
    "deletable": true,
    "editable": true
   },
   "source": [
    "<img src=\"http://imgur.com/l5NasQj.png\" style=\"float: left; margin: 25px 15px 0px 0px; height: 25px\">\n",
    "\n",
    "## 1. Defining a player\n",
    "\n",
    "---\n",
    "\n",
    "The player variables are:\n",
    "\n",
    "    player_id : id code unique to each player (integer)\n",
    "    player_name : entered name of the player (string)\n",
    "    time_played : number of time played the game in minutes (float)\n",
    "    player_pokemon: the player's captured pokemon (dictionary)\n",
    "    gyms_visited: ids of the gyms that a player has visited (list)\n",
    "    \n",
    "Create the components for a player object by defining each of these variables. The dictionary and list variables should just be defined as empty; you can use any (correctly typed) values for the others."
   ]
  },
  {
   "cell_type": "code",
   "execution_count": 48,
   "metadata": {
    "collapsed": false,
    "deletable": true,
    "editable": true
   },
   "outputs": [
    {
     "name": "stdout",
     "output_type": "stream",
     "text": [
      "{1: {'time_played': 13.13, 'gyms_visited': [], 'player_name': 'john', 'player_pokemon': {}}}\n"
     ]
    }
   ],
   "source": [
    "player_dict = {}\n",
    "player_dict = {1:\n",
    "              {'player_name' : 'john',\n",
    "               'time_played' : 13.13,\n",
    "               'player_pokemon' :{}, \n",
    "               'gyms_visited': []}\n",
    "    }\n",
    "\n",
    "print player_dict\n"
   ]
  },
  {
   "cell_type": "markdown",
   "metadata": {
    "deletable": true,
    "editable": true
   },
   "source": [
    "<img src=\"http://imgur.com/l5NasQj.png\" style=\"float: left; margin: 25px 15px 0px 0px; height: 25px\">\n",
    "\n",
    "## 2. Defining \"gym\" locations\n",
    "\n",
    "---\n",
    "\n",
    "As the sole programmer, Pokemon Stay will have to start small. To begin, there will be 10 different gym location websites on the internet. The gym locations are:\n",
    "\n",
    "    1. 'reddit.com'\n",
    "    2. 'amazon.com'\n",
    "    3. 'twitter.com'\n",
    "    4. 'linkedin.com'\n",
    "    5. 'ebay.com'\n",
    "    6. 'netflix.com'\n",
    "    7. 'amazon.com'\n",
    "    8. 'stackoverflow.com'\n",
    "    9. 'github.com'\n",
    "    10. 'quora.com'\n",
    "\n",
    "1. Set up a list of all the gym locations. This will be a list of strings.\n",
    "2. Append two of these locations to your player's list of visited gyms.\n",
    "3. Print the list."
   ]
  },
  {
   "cell_type": "code",
   "execution_count": 54,
   "metadata": {
    "collapsed": false,
    "deletable": true,
    "editable": true
   },
   "outputs": [
    {
     "name": "stdout",
     "output_type": "stream",
     "text": [
      "['reddit.com',\n",
      " 'amazon.com',\n",
      " 'twitter.com',\n",
      " 'linkedin.com',\n",
      " 'ebay.com',\n",
      " 'netflix.com',\n",
      " 'facebook',\n",
      " 'stackoverflow.com',\n",
      " 'github.com',\n",
      " 'quora.com',\n",
      " 'alcatraz',\n",
      " 'pacific_beach']\n"
     ]
    }
   ],
   "source": [
    "gym_list=['reddit.com',\n",
    "            'amazon.com',\n",
    "            'twitter.com',\n",
    "            'linkedin.com',\n",
    "            'ebay.com',\n",
    "            'netflix.com',\n",
    "            'facebook',\n",
    "            'stackoverflow.com',\n",
    "            'github.com',\n",
    "            'quora.com',\n",
    "            'alcatraz',\n",
    "            'pacific_beach']\n",
    "\n",
    "pprint(gym_list)"
   ]
  },
  {
   "cell_type": "markdown",
   "metadata": {
    "deletable": true,
    "editable": true
   },
   "source": [
    "<img src=\"http://imgur.com/l5NasQj.png\" style=\"float: left; margin: 25px 15px 0px 0px; height: 25px\">\n",
    "\n",
    "## 3. Create a pokedex\n",
    "\n",
    "---\n",
    "\n",
    "We also need to create some pokemon to catch. Each pokemon will be defined by these variables:\n",
    "\n",
    "    pokemon_id : unique identifier for each pokemon (integer)\n",
    "    name : the name of the pokemon (string)\n",
    "    type : the category of pokemon (string)\n",
    "    hp : base hitpoints (integer)\n",
    "    attack : base attack (integer)\n",
    "    defense : base defense (integer)\n",
    "    special_attack : base special attack (integer)\n",
    "    special_defense : base sepecial defense (integer)\n",
    "    speed : base speed (integer)\n",
    "\n",
    "We are only going to create 3 different pokemon with these `pokemon_id` and `pokemon_name` values:\n",
    "\n",
    "    1 : 'charmander'\n",
    "    2 : 'squirtle'\n",
    "    3 : 'bulbasaur'\n",
    "\n",
    "Create a dictionary that will contain the pokemon. The keys of the dictionary will be the `pokemon_id` and the values will themselves dictionaries that contain the other pokemon variables. The structure of the pokedex dictionary will start like so:\n",
    "     \n",
    "     {\n",
    "         1: {\n",
    "                 'name':'charmander',\n",
    "                 'type':'fire',\n",
    "                 ...\n",
    "                 \n",
    "The `type` of charmander, squirtle, and bulbasaur should be `'fire'`, `'water'`, and `'poison'` respectively. The other values are up to you, make them anything you like!\n",
    "\n",
    "Print (or pretty print) the pokedex dictionary with the 3 pokemon."
   ]
  },
  {
   "cell_type": "code",
   "execution_count": 82,
   "metadata": {
    "collapsed": false,
    "deletable": true,
    "editable": true
   },
   "outputs": [
    {
     "name": "stdout",
     "output_type": "stream",
     "text": [
      "{1: {'attack': 30,\n",
      "     'defense': 30,\n",
      "     'hp': 100,\n",
      "     'name': 'charmander',\n",
      "     'special_attack': 35,\n",
      "     'special_defense': 35,\n",
      "     'speed': 35,\n",
      "     'type': 'fire'},\n",
      " 2: {'attack': 20,\n",
      "     'defense': 20,\n",
      "     'hp': 200,\n",
      "     'name': 'squirtle',\n",
      "     'pokemon_id': 3,\n",
      "     'special_attack': 25,\n",
      "     'special_defense': 25,\n",
      "     'speed': 25,\n",
      "     'type': 'water'},\n",
      " 3: {'attack': 10,\n",
      "     'defense': 10,\n",
      "     'hp': 300,\n",
      "     'name': 'bulbasaur',\n",
      "     'special_attack': 15,\n",
      "     'special_defense': 15,\n",
      "     'speed': 15,\n",
      "     'type': 'poison'}}\n"
     ]
    }
   ],
   "source": [
    "pokemon = {}\n",
    "\n",
    "pokemon[1] = {'name':'charmander',\n",
    "     'type':'fire',\n",
    "     'hp': 100,\n",
    "     'attack': 30,\n",
    "     'defense': 30,\n",
    "     'special_attack': 35,\n",
    "     'special_defense': 35,\n",
    "     'speed': 35}\n",
    "pokemon[2] ={'name':'squirtle',\n",
    "     'type':'water',\n",
    "     'hp': 200,\n",
    "     'attack': 20,\n",
    "     'defense': 20,\n",
    "     'special_attack': 25,\n",
    "     'special_defense': 25,\n",
    "     'speed': 25,\n",
    "     'pokemon_id': 3}\n",
    "pokemon[3] = {'name':'bulbasaur',\n",
    "     'type':'poison',\n",
    "     'hp': 300,\n",
    "     'attack': 10,\n",
    "     'defense': 10,\n",
    "     'special_attack': 15,\n",
    "     'special_defense': 15,'speed':15}\n",
    "pprint(pokemon)"
   ]
  },
  {
   "cell_type": "markdown",
   "metadata": {
    "deletable": true,
    "editable": true
   },
   "source": [
    "<img src=\"http://imgur.com/l5NasQj.png\" style=\"float: left; margin: 25px 15px 0px 0px; height: 25px\">\n",
    "\n",
    "## 4. Create a data structure for players\n",
    "\n",
    "---\n",
    "\n",
    "### 4.1 \n",
    "\n",
    "In order to maintain a database of multiple players, create a dictionary that keeps track of players indexed by `player_id`. \n",
    "\n",
    "The keys of the dictionary will be `player_id` and values will be dictionaries containing each player's variables (from question 1). \n",
    "\n",
    "Construct the `players` dictionary and insert the player that you defined in question 1, then print `players`."
   ]
  },
  {
   "cell_type": "code",
   "execution_count": 84,
   "metadata": {
    "collapsed": false,
    "deletable": true,
    "editable": true
   },
   "outputs": [
    {
     "name": "stdout",
     "output_type": "stream",
     "text": [
      "{1: {'gyms_visited': [],\n",
      "     'player_name': 'john',\n",
      "     'player_pokemon': {'attack': 20,\n",
      "                        'defense': 20,\n",
      "                        'hp': 200,\n",
      "                        'name': 'squirtle',\n",
      "                        'pokemon_id': 3,\n",
      "                        'special_attack': 25,\n",
      "                        'special_defense': 25,\n",
      "                        'speed': 25,\n",
      "                        'type': 'water'},\n",
      "     'time_played': 13.13},\n",
      " 2: {'gyms_visited': [],\n",
      "     'player_name': 'adam',\n",
      "     'player_pokemon': {},\n",
      "     'time_played': 31.31}}\n"
     ]
    }
   ],
   "source": [
    "player_dict[2] = {\n",
    "    'player_name' : 'adam',\n",
    "    'time_played' : 31.31,\n",
    "    'player_pokemon' :{}, \n",
    "    'gyms_visited': []\n",
    "    }\n",
    "\n",
    "pprint(player_dict)\n",
    "\n"
   ]
  },
  {
   "cell_type": "markdown",
   "metadata": {
    "deletable": true,
    "editable": true
   },
   "source": [
    "---\n",
    "\n",
    "### 4.2\n",
    "\n",
    "Create a new player with `player_id = 2` in the `players` dictionary. Leave the `'player_pokemon'` dictionary empty. Append `'alcatraz'` and `'pacific_beach'` to the `'gyms_visited'` list for player 2.\n",
    "\n",
    "The `'player_name'` and `'time_played'` values are up to you, but must be a string and float, respectively.\n",
    "\n",
    "Remember, the player_id is the key for the player in the players dictionary.\n",
    "\n",
    "Print the `players` dictionary with the new player inserted."
   ]
  },
  {
   "cell_type": "code",
   "execution_count": 51,
   "metadata": {
    "collapsed": false,
    "deletable": true,
    "editable": true
   },
   "outputs": [
    {
     "name": "stdout",
     "output_type": "stream",
     "text": [
      "{1: {'gyms_visited': [],\n",
      "     'player_name': 'john',\n",
      "     'player_pokemon': {},\n",
      "     'time_played': 13.13},\n",
      " 2: {'gyms_visited': ('alcatraz', 'pacific_beach'),\n",
      "     'player_name': 'adam',\n",
      "     'player_pokemon': {},\n",
      "     'time_played': 30.3}}\n"
     ]
    }
   ],
   "source": [
    "player_dict[2] = {\n",
    "    'player_name': 'adam',\n",
    "    'time_played': 30.30,\n",
    "    'player_pokemon':{}, \n",
    "    'gyms_visited':['']\n",
    "    }\n",
    "\n",
    "player_dict[2]['gyms_visited'] = 'alcatraz', 'pacific_beach'\n",
    "\n",
    "pprint(player_dict)"
   ]
  },
  {
   "cell_type": "markdown",
   "metadata": {
    "deletable": true,
    "editable": true
   },
   "source": [
    "<img src=\"http://imgur.com/l5NasQj.png\" style=\"float: left; margin: 25px 15px 0px 0px; height: 25px\">\n",
    "\n",
    "## 5. Add captured pokemon for each player\n",
    "\n",
    "---\n",
    "\n",
    "The `'player_pokemon'` keyed dictionaries for eac\n",
    "\n",
    "\n",
    "The keys of the `'player_pokemon'` dictionaries are the pokemon ids that correspond to the ids in the `pokedex` dictionary you created earlier. The values are integers specifying the stats for the pokemon.\n",
    "\n",
    "Give player 1 a squirtle. Give player 2 charmander and a bulbasaur.\n",
    "\n",
    "Print the players dictionary after adding the pokemon for each player.\n",
    "\n"
   ]
  },
  {
   "cell_type": "code",
   "execution_count": 86,
   "metadata": {
    "collapsed": false,
    "deletable": true,
    "editable": true
   },
   "outputs": [
    {
     "name": "stdout",
     "output_type": "stream",
     "text": [
      "{1: {'gyms_visited': [],\n",
      "     'player_name': 'john',\n",
      "     'player_pokemon': {2: {'attack': 20,\n",
      "                            'defense': 20,\n",
      "                            'hp': 200,\n",
      "                            'name': 'squirtle',\n",
      "                            'pokemon_id': 3,\n",
      "                            'special_attack': 25,\n",
      "                            'special_defense': 25,\n",
      "                            'speed': 25,\n",
      "                            'type': 'water'}},\n",
      "     'time_played': 13.13},\n",
      " 2: {'gyms_visited': [],\n",
      "     'player_name': 'adam',\n",
      "     'player_pokemon': {1: {'attack': 30,\n",
      "                            'defense': 30,\n",
      "                            'hp': 100,\n",
      "                            'name': 'charmander',\n",
      "                            'special_attack': 35,\n",
      "                            'special_defense': 35,\n",
      "                            'speed': 35,\n",
      "                            'type': 'fire'},\n",
      "                        3: {'attack': 10,\n",
      "                            'defense': 10,\n",
      "                            'hp': 300,\n",
      "                            'name': 'bulbasaur',\n",
      "                            'special_attack': 15,\n",
      "                            'special_defense': 15,\n",
      "                            'speed': 15,\n",
      "                            'type': 'poison'}},\n",
      "     'time_played': 31.31}}\n"
     ]
    }
   ],
   "source": [
    "player_dict[1]['player_pokemon']={2:pokemon[2]}\n",
    "player_dict[2]['player_pokemon']={1:pokemon[1],3:pokemon[3]}\n",
    "\n",
    "pprint(player_dict)\n"
   ]
  },
  {
   "cell_type": "markdown",
   "metadata": {
    "deletable": true,
    "editable": true
   },
   "source": [
    "\n",
    "\n",
    "## 6. What gyms have players visited?\n",
    "\n",
    "---\n",
    "<img src=\"http://imgur.com/l5NasQj.png\" style=\"float: left; margin: 25px 15px 0px 0px; height: 25px\">\n",
    "### 6.1\n",
    "\n",
    "Write a for-loop that:\n",
    "\n",
    "1. Iterates through the `pokemon_gyms` list of gym locations you defined before.\n",
    "2. For each gym, iterate through each player in the `players` dictionary with a second, internal for-loop.\n",
    "3. If the player has visited the gym, print out \"[player] has visited [gym location].\", filling in [player] and [gym location] with the current player's name and current gym location."
   ]
  },
  {
   "cell_type": "code",
   "execution_count": 62,
   "metadata": {
    "collapsed": false,
    "deletable": true,
    "editable": true
   },
   "outputs": [
    {
     "name": "stdout",
     "output_type": "stream",
     "text": [
      "Player adam has visited alcatraz gym\n",
      "Player adam has visited pacific_beach gym\n"
     ]
    }
   ],
   "source": [
    "for gym_idx in gym_list:\n",
    "    for player_idx in player_dict:\n",
    "#        for pg_idx in player_dict[player_idx]['gyms_visited']:\n",
    "        \n",
    "        if gym_idx in player_dict[player_idx]['gyms_visited']:\n",
    "            print 'Player', player_dict[player_idx]['player_name'], 'has visited', gym_idx, 'gym'"
   ]
  },
  {
   "cell_type": "markdown",
   "metadata": {
    "deletable": true,
    "editable": true
   },
   "source": [
    "<img src=\"http://imgur.com/xDpSobf.png\" style=\"float: left; margin: 25px 15px 0px 0px; height: 25px\">\n",
    "### 6.2\n",
    "\n",
    "How many times did that loop run? If you have N gyms and also N players, how many times would it run as a function of N?\n",
    "\n",
    "Can you think of a more efficient way to accomplish the same thing? \n",
    "\n",
    "(You can write your answer as Markdown text.)\n",
    "\n",
    "*A. 12 gyms by 2 players = 24 loops*  \n",
    "*B. Just loop on the player gyms* \n"
   ]
  },
  {
   "cell_type": "code",
   "execution_count": null,
   "metadata": {
    "collapsed": true,
    "deletable": true,
    "editable": true
   },
   "outputs": [],
   "source": []
  },
  {
   "cell_type": "markdown",
   "metadata": {
    "deletable": true,
    "editable": true
   },
   "source": [
    "<img src=\"http://imgur.com/l5NasQj.png\" style=\"float: left; margin: 25px 15px 0px 0px; height: 25px\">\n",
    "\n",
    "## 7. Calculate player \"power\".\n",
    "\n",
    "---\n",
    "\n",
    "Define a function that will calculate a player's \"power\". Player power is defined as the sum of the base statistics all of their pokemon.\n",
    "\n",
    "Your function will:\n",
    "\n",
    "1. Accept the `players` dictionary, `pokedex` dictionary, and a player_id as arguments.\n",
    "2. For the specified player_id, look up that player's pokemon and their level(s).\n",
    "3. Find and aggregate the attack and defense values for each of the player's pokemon from the `pokedex` dictionary.\n",
    "4. Print \"[player name]'s power is [player power].\", where the player power is the sum of the base statistics for all of their pokemon.\n",
    "5. Return the player's power value.\n",
    "\n",
    "Print out the pokemon power for each of your players."
   ]
  },
  {
   "cell_type": "code",
   "execution_count": 95,
   "metadata": {
    "collapsed": false,
    "deletable": true,
    "editable": true
   },
   "outputs": [
    {
     "name": "stdout",
     "output_type": "stream",
     "text": [
      "john's power is 40\n",
      "adam's power is 80\n"
     ]
    }
   ],
   "source": [
    "def calc_player_power(player_i):\n",
    "    player_power = 0\n",
    "#    for power_idx in player_dict[player_i]['player_pokemon'].keys():\n",
    "    for power_idx in player_dict[player_i]['player_pokemon']:\n",
    "         player_power += pokeman[power_idx]['attack'] + pokeman[power_idx]['defense']\n",
    "#         player_power += pokeman[power_idx]['attack'] + pokeman[power_idx]['defense']\n",
    "    return player_power\n",
    "\n",
    "#player_pokemon\n",
    "\n",
    "#for key in players[player_id]['player_pokemon'].keys():\n",
    "#        player_power += pokedex[key]['attack']\n",
    "#        player_power += pokedex[key]['defense']\n",
    "\n",
    "for x in player_dict.keys():\n",
    "    player_power = calc_player_power(x)\n",
    "    print(player_dict[x]['player_name'] + \"'s power is \" + str(player_power))\n"
   ]
  },
  {
   "cell_type": "markdown",
   "metadata": {
    "collapsed": true,
    "deletable": true,
    "editable": true
   },
   "source": [
    "<img src=\"http://imgur.com/l5NasQj.png\" style=\"float: left; margin: 25px 15px 0px 0px; height: 25px\">\n",
    "\n",
    "## 8. Load a pokedex file containing all the pokemon\n",
    "\n",
    "---\n",
    "\n",
    "### 8.1\n",
    "\n",
    "While you were putting together the prototype code, your colleagues were preparing a dataset of Pokemon and their attributes. (This was a rush job, so they may have picked some crazy values for some...)\n",
    "\n",
    "The code below loads information from a comma separated value (csv) file. You need to parse this string into a more useable format. The format of the string is:\n",
    "\n",
    "- Rows are separated by newline characters: \\n\n",
    "- Columns are separated by commas: ,\n",
    "- All cells in the csv are double quoted. Ex: \"PokedexNumber\" is the first cell of the first row.\n",
    "\n",
    "\n",
    "Using for-loops, create a list of lists where each list within the overall list is a row of the csv/matrix, and each element in that list is a cell in that row. Additional criteria:\n",
    "\n",
    "1. Quotes are removed from each cell item.\n",
    "2. Numeric column values are converted to floats.\n",
    "3. There are some cells that are empty and have no information. For these cells put a -1 value in place.\n",
    "\n",
    "Your end result is effectively a matrix. Each list in the outer list is a row, and the *j*th elements of list together form the *j*th column, which represents a data attribute. The first three lists in your pokedex list should look like this:\n",
    "\n",
    "    ['PokedexNumber', 'Name', 'Type', 'Total', 'HP', 'Attack', 'Defense', 'SpecialAttack', 'SpecialDefense', 'Speed']\n",
    "    [1.0, 'Bulbasaur', 'GrassPoison', 318.0, 45.0, 49.0, 49.0, 65.0, 65.0, 45.0]\n",
    "    [2.0, 'Ivysaur', 'GrassPoison', 405.0, 60.0, 62.0, 63.0, 80.0, 80.0, 60.0]"
   ]
  },
  {
   "cell_type": "code",
   "execution_count": 225,
   "metadata": {
    "collapsed": false,
    "deletable": true,
    "editable": true
   },
   "outputs": [
    {
     "name": "stdout",
     "output_type": "stream",
     "text": [
      "     PokedexNumber                       Name            Type  Total   HP  \\\n",
      "0                1                  Bulbasaur     GrassPoison    318   45   \n",
      "1                2                    Ivysaur     GrassPoison    405   60   \n",
      "2                3                   Venusaur     GrassPoison    525   80   \n",
      "3                3      VenusaurMega Venusaur     GrassPoison    625   80   \n",
      "4                4                 Charmander            Fire    309   39   \n",
      "5                5                 Charmeleon            Fire    405   58   \n",
      "6                6                  Charizard      FireFlying    534   78   \n",
      "7                6  CharizardMega Charizard X      FireDragon    634   78   \n",
      "8                6  CharizardMega Charizard Y      FireFlying    634   78   \n",
      "9                7                   Squirtle           Water    314   44   \n",
      "10               8                  Wartortle           Water    405   59   \n",
      "11               9                  Blastoise           Water    530   79   \n",
      "12               9    BlastoiseMega Blastoise           Water    630   79   \n",
      "13              10                   Caterpie             Bug    195   45   \n",
      "14              11                    Metapod             Bug    205   50   \n",
      "15              12                 Butterfree       BugFlying    395   60   \n",
      "16              13                     Weedle       BugPoison    195   40   \n",
      "17              14                     Kakuna       BugPoison    205   45   \n",
      "18              15                   Beedrill       BugPoison    395   65   \n",
      "19              15      BeedrillMega Beedrill       BugPoison    495   65   \n",
      "20              16                     Pidgey    NormalFlying    251   40   \n",
      "21              17                  Pidgeotto    NormalFlying    349   63   \n",
      "22              18                    Pidgeot    NormalFlying    479   83   \n",
      "23              18        PidgeotMega Pidgeot    NormalFlying    579   83   \n",
      "24              19                    Rattata          Normal    253   30   \n",
      "25              20                   Raticate          Normal    413   55   \n",
      "26              21                    Spearow    NormalFlying    262   40   \n",
      "27              22                     Fearow    NormalFlying    442   65   \n",
      "28              23                      Ekans          Poison    288   35   \n",
      "29              24                      Arbok          Poison    438   60   \n",
      "..             ...                        ...             ...    ...  ...   \n",
      "770            700                    Sylveon           Fairy    525   95   \n",
      "771            701                   Hawlucha  FightingFlying    500   78   \n",
      "772            702                    Dedenne   ElectricFairy    431   67   \n",
      "773            703                    Carbink       RockFairy    500   50   \n",
      "774            704                      Goomy          Dragon    300   45   \n",
      "775            705                    Sliggoo          Dragon    452   68   \n",
      "776            706                     Goodra          Dragon    600   90   \n",
      "777            707                     Klefki      SteelFairy    470   57   \n",
      "778            708                   Phantump      GhostGrass    309   43   \n",
      "779            709                  Trevenant      GhostGrass    474   85   \n",
      "780            710      PumpkabooAverage Size      GhostGrass    335   49   \n",
      "781            710        PumpkabooSmall Size      GhostGrass    335   44   \n",
      "782            710        PumpkabooLarge Size      GhostGrass    335   54   \n",
      "783            710        PumpkabooSuper Size      GhostGrass    335   59   \n",
      "784            711      GourgeistAverage Size      GhostGrass    494   65   \n",
      "785            711        GourgeistSmall Size      GhostGrass    494   55   \n",
      "786            711        GourgeistLarge Size      GhostGrass    494   75   \n",
      "787            711        GourgeistSuper Size      GhostGrass    494   85   \n",
      "788            712                   Bergmite             Ice    304   55   \n",
      "789            713                    Avalugg             Ice    514   95   \n",
      "790            714                     Noibat    FlyingDragon    245   40   \n",
      "791            715                    Noivern    FlyingDragon    535   85   \n",
      "792            716                    Xerneas           Fairy    680  126   \n",
      "793            717                    Yveltal      DarkFlying    680  126   \n",
      "794            718              Zygarde Forme    DragonGround    600  108   \n",
      "795            719                    Diancie       RockFairy    600   50   \n",
      "796            719        DiancieMega Diancie       RockFairy    700   50   \n",
      "797            720        HoopaHoopa Confined    PsychicGhost    600   80   \n",
      "798            720         HoopaHoopa Unbound     PsychicDark    680   80   \n",
      "799            721                  Volcanion       FireWater    600   80   \n",
      "\n",
      "     Attack  Defense  SpecialAttack  SpecialDefense  Speed  \n",
      "0        49       49             65              65     45  \n",
      "1        62       63             80              80     60  \n",
      "2        82       83            100             100     80  \n",
      "3       100      123            122             120     80  \n",
      "4        52       43             60              50     65  \n",
      "5        64       58             80              65     80  \n",
      "6        84       78            109              85    100  \n",
      "7       130      111            130              85    100  \n",
      "8       104       78            159             115    100  \n",
      "9        48       65             50              64     43  \n",
      "10       63       80             65              80     58  \n",
      "11       83      100             85             105     78  \n",
      "12      103      120            135             115     78  \n",
      "13       30       35             20              20     45  \n",
      "14       20       55             25              25     30  \n",
      "15       45       50             90              80     70  \n",
      "16       35       30             20              20     50  \n",
      "17       25       50             25              25     35  \n",
      "18       90       40             45              80     75  \n",
      "19      150       40             15              80    145  \n",
      "20       45       40             35              35     56  \n",
      "21       60       55             50              50     71  \n",
      "22       80       75             70              70    101  \n",
      "23       80       80            135              80    121  \n",
      "24       56       35             25              35     72  \n",
      "25       81       60             50              70     97  \n",
      "26       60       30             31              31     70  \n",
      "27       90       65             61              61    100  \n",
      "28       60       44             40              54     55  \n",
      "29       85       69             65              79     80  \n",
      "..      ...      ...            ...             ...    ...  \n",
      "770      65       65            110             130     60  \n",
      "771      92       75             74              63    118  \n",
      "772      58       57             81              67    101  \n",
      "773      50      150             50             150     50  \n",
      "774      50       35             55              75     40  \n",
      "775      75       53             83             113     60  \n",
      "776     100       70            110             150     80  \n",
      "777      80       91             80              87     75  \n",
      "778      70       48             50              60     38  \n",
      "779     110       76             65              82     56  \n",
      "780      66       70             44              55     51  \n",
      "781      66       70             44              55     56  \n",
      "782      66       70             44              55     46  \n",
      "783      66       70             44              55     41  \n",
      "784      90      122             58              75     84  \n",
      "785      85      122             58              75     99  \n",
      "786      95      122             58              75     69  \n",
      "787     100      122             58              75     54  \n",
      "788      69       85             32              35     28  \n",
      "789     117      184             44              46     28  \n",
      "790      30       35             45              40     55  \n",
      "791      70       80             97              80    123  \n",
      "792     131       95            131              98     99  \n",
      "793     131       95            131              98     99  \n",
      "794     100      121             81              95     95  \n",
      "795     100      150            100             150     50  \n",
      "796     160      110            160             110    110  \n",
      "797     110       60            150             130     70  \n",
      "798     160       60            170             130     80  \n",
      "799     110      120            130              90     70  \n",
      "\n",
      "[800 rows x 10 columns]\n"
     ]
    }
   ],
   "source": [
    "# Code to read in pokedex info\n",
    "#raw_pd = ''\n",
    "#pokedex_file = 'pokedex_basic.csv'\n",
    "#with open(pokedex_file, 'r') as f:\n",
    "#    raw_pd = f.read()\n",
    "#    \n",
    "##    lines_pd = raw_pd.split('\\n')\n",
    "#    print type(lines_pd)\n",
    "##    line = []\n",
    "#    for line_idx in lines_pd:\n",
    "#            line = line_idx\n",
    "#            print('here 1', line_idx)\n",
    "#            for word in line:\n",
    "#                print('here 2', type(word))\n",
    "             \n",
    "# the pokedex string is assigned to the raw_pd variable\n",
    "\n",
    "import pandas as pd\n",
    "poke_df = pd.read_csv('pokedex_basic.csv')\n",
    "\n",
    "print (poke_df)\n"
   ]
  },
  {
   "cell_type": "markdown",
   "metadata": {
    "deletable": true,
    "editable": true
   },
   "source": [
    "<img src=\"http://imgur.com/xDpSobf.png\" style=\"float: left; margin: 25px 15px 0px 0px; height: 25px\">\n",
    "\n",
    "### 8.2 Parse the raw pokedex with list comprehensions\n",
    "\n",
    "---\n",
    "\n",
    "Perform the same parsing as above, but **using only a single list comprehension** instead of for loops. You may have nested list comprehensions within the main list comprehension! The output should be exactly the same."
   ]
  },
  {
   "cell_type": "code",
   "execution_count": null,
   "metadata": {
    "collapsed": false,
    "deletable": true,
    "editable": true
   },
   "outputs": [],
   "source": []
  },
  {
   "cell_type": "markdown",
   "metadata": {
    "deletable": true,
    "editable": true
   },
   "source": [
    "<img src=\"http://imgur.com/l5NasQj.png\" style=\"float: left; margin: 25px 15px 0px 0px; height: 25px\">\n",
    "\n",
    "## 9. Write a function to generate the full pokedex\n",
    "\n",
    "---\n",
    "\n",
    "Write a function that recreates the pokedex you made before, but with the data read in from the full pokemon file. The `PokedexNumber` should be used as the `pokemon_id` key values for the dictionary of pokemon.\n",
    "\n",
    "Your function should:\n",
    "\n",
    "1. Take the parsed pokedex information you created above as an argument.\n",
    "2. Return a dictionary in the same format as your original pokedex you created before containing the information from the parsed full pokedex file.\n",
    "\n",
    "To test the function, print out the pokemon with id = 100."
   ]
  },
  {
   "cell_type": "code",
   "execution_count": 222,
   "metadata": {
    "collapsed": false,
    "deletable": true,
    "editable": true,
    "scrolled": true
   },
   "outputs": [
    {
     "name": "stdout",
     "output_type": "stream",
     "text": [
      "['PokedexNumber', 'Name', 'Type', 'Total', 'HP', 'Attack', 'Defense', 'SpecialAttack', 'SpecialDefense', 'Speed']\n",
      "(0, PokedexNumber               1\n",
      "Name                Bulbasaur\n",
      "Type              GrassPoison\n",
      "Total                     318\n",
      "HP                         45\n",
      "Attack                     49\n",
      "Defense                    49\n",
      "SpecialAttack              65\n",
      "SpecialDefense             65\n",
      "Speed                      45\n",
      "Name: 0, dtype: object)\n"
     ]
    },
    {
     "ename": "IndexError",
     "evalue": "tuple index out of range",
     "output_type": "error",
     "traceback": [
      "\u001b[0;31m---------------------------------------------------------------------------\u001b[0m",
      "\u001b[0;31mIndexError\u001b[0m                                Traceback (most recent call last)",
      "\u001b[0;32m<ipython-input-222-249b9e168078>\u001b[0m in \u001b[0;36m<module>\u001b[0;34m()\u001b[0m\n\u001b[1;32m     10\u001b[0m         poke_line[0]: {\n\u001b[1;32m     11\u001b[0m             \u001b[0mheading\u001b[0m\u001b[0;34m[\u001b[0m\u001b[0;36m1\u001b[0m\u001b[0;34m]\u001b[0m\u001b[0;34m:\u001b[0m\u001b[0mpoke_line\u001b[0m\u001b[0;34m[\u001b[0m\u001b[0;36m1\u001b[0m\u001b[0;34m]\u001b[0m\u001b[0;34m,\u001b[0m\u001b[0;34m\u001b[0m\u001b[0m\n\u001b[0;32m---> 12\u001b[0;31m             \u001b[0mheading\u001b[0m\u001b[0;34m[\u001b[0m\u001b[0;36m2\u001b[0m\u001b[0;34m]\u001b[0m\u001b[0;34m:\u001b[0m\u001b[0mpoke_line\u001b[0m\u001b[0;34m[\u001b[0m\u001b[0;36m2\u001b[0m\u001b[0;34m]\u001b[0m\u001b[0;34m,\u001b[0m\u001b[0;34m\u001b[0m\u001b[0m\n\u001b[0m\u001b[1;32m     13\u001b[0m             \u001b[0mheading\u001b[0m\u001b[0;34m[\u001b[0m\u001b[0;36m3\u001b[0m\u001b[0;34m]\u001b[0m\u001b[0;34m:\u001b[0m\u001b[0mpoke_line\u001b[0m\u001b[0;34m[\u001b[0m\u001b[0;36m3\u001b[0m\u001b[0;34m]\u001b[0m\u001b[0;34m,\u001b[0m\u001b[0;34m\u001b[0m\u001b[0m\n\u001b[1;32m     14\u001b[0m             \u001b[0mheading\u001b[0m\u001b[0;34m[\u001b[0m\u001b[0;36m4\u001b[0m\u001b[0;34m]\u001b[0m\u001b[0;34m:\u001b[0m\u001b[0mpoke_line\u001b[0m\u001b[0;34m[\u001b[0m\u001b[0;36m4\u001b[0m\u001b[0;34m]\u001b[0m\u001b[0;34m,\u001b[0m\u001b[0;34m\u001b[0m\u001b[0m\n",
      "\u001b[0;31mIndexError\u001b[0m: tuple index out of range"
     ]
    }
   ],
   "source": [
    "columns = {}\n",
    "heading = list(poke_df.columns.values)\n",
    "print(heading)\n",
    "\n",
    "import pandas as pd\n",
    "pokedex = {}\n",
    "for poke_line in poke_df.iterrows():\n",
    "    print(poke_line)\n",
    "    pokedex.update({\n",
    "        poke_line[0]: {\n",
    "            heading[1]:poke_line[1],\n",
    "            heading[2]:poke_line[2],\n",
    "            heading[3]:poke_line[3],\n",
    "            heading[4]:poke_line[4],\n",
    "            heading[5]:poke_line[5],\n",
    "            heading[6]:poke_line[6],\n",
    "            heading[7]:poke_line[7]\n",
    "        }\n",
    "   })\n",
    "\n",
    "\n"
   ]
  },
  {
   "cell_type": "markdown",
   "metadata": {
    "deletable": true,
    "editable": true
   },
   "source": [
    "<img src=\"http://i.imgur.com/GCAf1UX.png\" style=\"float: left; margin: 25px 15px 0px 0px; height: 25px\">\n",
    "\n",
    "## 10. Write a function to generate a \"filtered\" pokedex\n",
    "---\n",
    "Your function should:\n",
    "1. Take the parsed pokedex information you created above as an argument.\n",
    "1. Take a dictionary as a parameter with keys matching the features of the Pokedex, filtering by exact match for string type values, and/or filter continuous variables specified value that is greater than or equal to the dictionary key parameter.\n",
    "1. Return multiple elements from the Pokedex\n",
    "\n",
    "Example:\n",
    "\n",
    "```python\n",
    "\n",
    "# Only filter based on parameters passed\n",
    "filter_options = {\n",
    "    'Attack':   25,\n",
    "    'Defense':  30,\n",
    "    'Type':     'Electric'\n",
    "}\n",
    "\n",
    "# Return records with attack >= 24, defense >= 30, and type == \"Electric\"\n",
    "# Also anticipate that other paramters can also be passed such as \"SpecialAttack\", \"Speed\", etc.\n",
    "filtered_pokedex(pokedex_data, filter=filter_options)\n",
    "\n",
    "# Example output:\n",
    "# [{'Attack': 30.0,\n",
    "#  'Defense': 50.0,\n",
    "#  'HP': 40.0,\n",
    "#  'Name': 'Voltorb',\n",
    "#  'SpecialAttack': 55.0,\n",
    "#  'SpecialDefense': 55.0,\n",
    "#  'Speed': 100.0,\n",
    "#  'Total': 330.0,\n",
    "#  'Type': 'Electric'},\n",
    "#  {'Attack': 30.0,\n",
    "#  'Defense': 33.0,\n",
    "#  'HP': 32.0,\n",
    "#  'Name': 'Pikachu',\n",
    "#  'SpecialAttack': 55.0,\n",
    "#  'SpecialDefense': 55.0,\n",
    "#  'Speed': 100.0,\n",
    "#  'Total': 330.0,\n",
    "#  'Type': 'Electric'},\n",
    "#  ... etc\n",
    "#  ]\n",
    "\n",
    "```\n",
    "\n"
   ]
  },
  {
   "cell_type": "code",
   "execution_count": 230,
   "metadata": {
    "collapsed": false,
    "deletable": true,
    "editable": true
   },
   "outputs": [
    {
     "name": "stdout",
     "output_type": "stream",
     "text": [
      "119.962020005\n",
      "435.1275\n"
     ]
    }
   ],
   "source": []
  },
  {
   "cell_type": "markdown",
   "metadata": {
    "collapsed": true,
    "deletable": true,
    "editable": true
   },
   "source": [
    "\n",
    "## 9. Descriptive statistics on the prototype pokedex\n",
    "\n",
    "<img src=\"http://imgur.com/l5NasQj.png\" style=\"float: left; margin: 25px 15px 0px 0px; height: 25px\">\n",
    "### 9.1\n",
    "\n",
    "What is the population mean and standard deviation of the \"Total\" attribute for all characters in the Pokedex?\n",
    "\n"
   ]
  },
  {
   "cell_type": "code",
   "execution_count": 235,
   "metadata": {
    "collapsed": false,
    "deletable": true,
    "editable": true
   },
   "outputs": [
    {
     "name": "stdout",
     "output_type": "stream",
     "text": [
      "119.962020005\n",
      "435.1275\n"
     ]
    }
   ],
   "source": [
    "import numpy as np\n",
    "\n",
    "totals_std = np.std(df['Total'])\n",
    "totals_mean = np.mean(df['Total'])\n",
    "\n",
    "print totals_std\n",
    "print totals_mean"
   ]
  },
  {
   "cell_type": "markdown",
   "metadata": {
    "deletable": true,
    "editable": true
   },
   "source": [
    "<img src=\"http://imgur.com/l5NasQj.png\" style=\"float: left; margin: 25px 15px 0px 0px; height: 25px\">\n",
    "### 9.2\n",
    "\n",
    "The game is no fun if the characters are wildly unbalanced! Are any characters \"overpowered\", which we'll define as having a \"Total\" more than three standard deviations from the population mean?"
   ]
  },
  {
   "cell_type": "code",
   "execution_count": 241,
   "metadata": {
    "collapsed": false,
    "deletable": true,
    "editable": true
   },
   "outputs": [
    {
     "name": "stdout",
     "output_type": "stream",
     "text": [
      "163\n"
     ]
    },
    {
     "ename": "KeyError",
     "evalue": "163",
     "output_type": "error",
     "traceback": [
      "\u001b[0;31m---------------------------------------------------------------------------\u001b[0m",
      "\u001b[0;31mKeyError\u001b[0m                                  Traceback (most recent call last)",
      "\u001b[0;32m<ipython-input-241-2a5981737200>\u001b[0m in \u001b[0;36m<module>\u001b[0;34m()\u001b[0m\n\u001b[1;32m      2\u001b[0m     \u001b[0;32mif\u001b[0m \u001b[0mi\u001b[0m \u001b[0;34m>\u001b[0m \u001b[0;34m(\u001b[0m \u001b[0mtotals_mean\u001b[0m \u001b[0;34m+\u001b[0m \u001b[0;34m(\u001b[0m\u001b[0mtotals_std\u001b[0m \u001b[0;34m*\u001b[0m \u001b[0;36m3\u001b[0m\u001b[0;34m)\u001b[0m\u001b[0;34m)\u001b[0m\u001b[0;34m:\u001b[0m\u001b[0;34m\u001b[0m\u001b[0m\n\u001b[1;32m      3\u001b[0m         \u001b[0;32mprint\u001b[0m\u001b[0;34m(\u001b[0m\u001b[0mn\u001b[0m\u001b[0;34m)\u001b[0m\u001b[0;34m\u001b[0m\u001b[0m\n\u001b[0;32m----> 4\u001b[0;31m         \u001b[0;32mprint\u001b[0m \u001b[0mdf\u001b[0m\u001b[0;34m[\u001b[0m\u001b[0mdf\u001b[0m\u001b[0;34m[\u001b[0m\u001b[0mn\u001b[0m\u001b[0;34m]\u001b[0m\u001b[0;34m]\u001b[0m\u001b[0;34m\u001b[0m\u001b[0m\n\u001b[0m\u001b[1;32m      5\u001b[0m \u001b[0;34m\u001b[0m\u001b[0m\n",
      "\u001b[0;32m/opt/conda/envs/python2/lib/python2.7/site-packages/pandas/core/frame.pyc\u001b[0m in \u001b[0;36m__getitem__\u001b[0;34m(self, key)\u001b[0m\n\u001b[1;32m   2057\u001b[0m             \u001b[0;32mreturn\u001b[0m \u001b[0mself\u001b[0m\u001b[0;34m.\u001b[0m\u001b[0m_getitem_multilevel\u001b[0m\u001b[0;34m(\u001b[0m\u001b[0mkey\u001b[0m\u001b[0;34m)\u001b[0m\u001b[0;34m\u001b[0m\u001b[0m\n\u001b[1;32m   2058\u001b[0m         \u001b[0;32melse\u001b[0m\u001b[0;34m:\u001b[0m\u001b[0;34m\u001b[0m\u001b[0m\n\u001b[0;32m-> 2059\u001b[0;31m             \u001b[0;32mreturn\u001b[0m \u001b[0mself\u001b[0m\u001b[0;34m.\u001b[0m\u001b[0m_getitem_column\u001b[0m\u001b[0;34m(\u001b[0m\u001b[0mkey\u001b[0m\u001b[0;34m)\u001b[0m\u001b[0;34m\u001b[0m\u001b[0m\n\u001b[0m\u001b[1;32m   2060\u001b[0m \u001b[0;34m\u001b[0m\u001b[0m\n\u001b[1;32m   2061\u001b[0m     \u001b[0;32mdef\u001b[0m \u001b[0m_getitem_column\u001b[0m\u001b[0;34m(\u001b[0m\u001b[0mself\u001b[0m\u001b[0;34m,\u001b[0m \u001b[0mkey\u001b[0m\u001b[0;34m)\u001b[0m\u001b[0;34m:\u001b[0m\u001b[0;34m\u001b[0m\u001b[0m\n",
      "\u001b[0;32m/opt/conda/envs/python2/lib/python2.7/site-packages/pandas/core/frame.pyc\u001b[0m in \u001b[0;36m_getitem_column\u001b[0;34m(self, key)\u001b[0m\n\u001b[1;32m   2064\u001b[0m         \u001b[0;31m# get column\u001b[0m\u001b[0;34m\u001b[0m\u001b[0;34m\u001b[0m\u001b[0m\n\u001b[1;32m   2065\u001b[0m         \u001b[0;32mif\u001b[0m \u001b[0mself\u001b[0m\u001b[0;34m.\u001b[0m\u001b[0mcolumns\u001b[0m\u001b[0;34m.\u001b[0m\u001b[0mis_unique\u001b[0m\u001b[0;34m:\u001b[0m\u001b[0;34m\u001b[0m\u001b[0m\n\u001b[0;32m-> 2066\u001b[0;31m             \u001b[0;32mreturn\u001b[0m \u001b[0mself\u001b[0m\u001b[0;34m.\u001b[0m\u001b[0m_get_item_cache\u001b[0m\u001b[0;34m(\u001b[0m\u001b[0mkey\u001b[0m\u001b[0;34m)\u001b[0m\u001b[0;34m\u001b[0m\u001b[0m\n\u001b[0m\u001b[1;32m   2067\u001b[0m \u001b[0;34m\u001b[0m\u001b[0m\n\u001b[1;32m   2068\u001b[0m         \u001b[0;31m# duplicate columns & possible reduce dimensionality\u001b[0m\u001b[0;34m\u001b[0m\u001b[0;34m\u001b[0m\u001b[0m\n",
      "\u001b[0;32m/opt/conda/envs/python2/lib/python2.7/site-packages/pandas/core/generic.pyc\u001b[0m in \u001b[0;36m_get_item_cache\u001b[0;34m(self, item)\u001b[0m\n\u001b[1;32m   1384\u001b[0m         \u001b[0mres\u001b[0m \u001b[0;34m=\u001b[0m \u001b[0mcache\u001b[0m\u001b[0;34m.\u001b[0m\u001b[0mget\u001b[0m\u001b[0;34m(\u001b[0m\u001b[0mitem\u001b[0m\u001b[0;34m)\u001b[0m\u001b[0;34m\u001b[0m\u001b[0m\n\u001b[1;32m   1385\u001b[0m         \u001b[0;32mif\u001b[0m \u001b[0mres\u001b[0m \u001b[0;32mis\u001b[0m \u001b[0mNone\u001b[0m\u001b[0;34m:\u001b[0m\u001b[0;34m\u001b[0m\u001b[0m\n\u001b[0;32m-> 1386\u001b[0;31m             \u001b[0mvalues\u001b[0m \u001b[0;34m=\u001b[0m \u001b[0mself\u001b[0m\u001b[0;34m.\u001b[0m\u001b[0m_data\u001b[0m\u001b[0;34m.\u001b[0m\u001b[0mget\u001b[0m\u001b[0;34m(\u001b[0m\u001b[0mitem\u001b[0m\u001b[0;34m)\u001b[0m\u001b[0;34m\u001b[0m\u001b[0m\n\u001b[0m\u001b[1;32m   1387\u001b[0m             \u001b[0mres\u001b[0m \u001b[0;34m=\u001b[0m \u001b[0mself\u001b[0m\u001b[0;34m.\u001b[0m\u001b[0m_box_item_values\u001b[0m\u001b[0;34m(\u001b[0m\u001b[0mitem\u001b[0m\u001b[0;34m,\u001b[0m \u001b[0mvalues\u001b[0m\u001b[0;34m)\u001b[0m\u001b[0;34m\u001b[0m\u001b[0m\n\u001b[1;32m   1388\u001b[0m             \u001b[0mcache\u001b[0m\u001b[0;34m[\u001b[0m\u001b[0mitem\u001b[0m\u001b[0;34m]\u001b[0m \u001b[0;34m=\u001b[0m \u001b[0mres\u001b[0m\u001b[0;34m\u001b[0m\u001b[0m\n",
      "\u001b[0;32m/opt/conda/envs/python2/lib/python2.7/site-packages/pandas/core/internals.pyc\u001b[0m in \u001b[0;36mget\u001b[0;34m(self, item, fastpath)\u001b[0m\n\u001b[1;32m   3541\u001b[0m \u001b[0;34m\u001b[0m\u001b[0m\n\u001b[1;32m   3542\u001b[0m             \u001b[0;32mif\u001b[0m \u001b[0;32mnot\u001b[0m \u001b[0misnull\u001b[0m\u001b[0;34m(\u001b[0m\u001b[0mitem\u001b[0m\u001b[0;34m)\u001b[0m\u001b[0;34m:\u001b[0m\u001b[0;34m\u001b[0m\u001b[0m\n\u001b[0;32m-> 3543\u001b[0;31m                 \u001b[0mloc\u001b[0m \u001b[0;34m=\u001b[0m \u001b[0mself\u001b[0m\u001b[0;34m.\u001b[0m\u001b[0mitems\u001b[0m\u001b[0;34m.\u001b[0m\u001b[0mget_loc\u001b[0m\u001b[0;34m(\u001b[0m\u001b[0mitem\u001b[0m\u001b[0;34m)\u001b[0m\u001b[0;34m\u001b[0m\u001b[0m\n\u001b[0m\u001b[1;32m   3544\u001b[0m             \u001b[0;32melse\u001b[0m\u001b[0;34m:\u001b[0m\u001b[0;34m\u001b[0m\u001b[0m\n\u001b[1;32m   3545\u001b[0m                 \u001b[0mindexer\u001b[0m \u001b[0;34m=\u001b[0m \u001b[0mnp\u001b[0m\u001b[0;34m.\u001b[0m\u001b[0marange\u001b[0m\u001b[0;34m(\u001b[0m\u001b[0mlen\u001b[0m\u001b[0;34m(\u001b[0m\u001b[0mself\u001b[0m\u001b[0;34m.\u001b[0m\u001b[0mitems\u001b[0m\u001b[0;34m)\u001b[0m\u001b[0;34m)\u001b[0m\u001b[0;34m[\u001b[0m\u001b[0misnull\u001b[0m\u001b[0;34m(\u001b[0m\u001b[0mself\u001b[0m\u001b[0;34m.\u001b[0m\u001b[0mitems\u001b[0m\u001b[0;34m)\u001b[0m\u001b[0;34m]\u001b[0m\u001b[0;34m\u001b[0m\u001b[0m\n",
      "\u001b[0;32m/opt/conda/envs/python2/lib/python2.7/site-packages/pandas/indexes/base.pyc\u001b[0m in \u001b[0;36mget_loc\u001b[0;34m(self, key, method, tolerance)\u001b[0m\n\u001b[1;32m   2134\u001b[0m                 \u001b[0;32mreturn\u001b[0m \u001b[0mself\u001b[0m\u001b[0;34m.\u001b[0m\u001b[0m_engine\u001b[0m\u001b[0;34m.\u001b[0m\u001b[0mget_loc\u001b[0m\u001b[0;34m(\u001b[0m\u001b[0mkey\u001b[0m\u001b[0;34m)\u001b[0m\u001b[0;34m\u001b[0m\u001b[0m\n\u001b[1;32m   2135\u001b[0m             \u001b[0;32mexcept\u001b[0m \u001b[0mKeyError\u001b[0m\u001b[0;34m:\u001b[0m\u001b[0;34m\u001b[0m\u001b[0m\n\u001b[0;32m-> 2136\u001b[0;31m                 \u001b[0;32mreturn\u001b[0m \u001b[0mself\u001b[0m\u001b[0;34m.\u001b[0m\u001b[0m_engine\u001b[0m\u001b[0;34m.\u001b[0m\u001b[0mget_loc\u001b[0m\u001b[0;34m(\u001b[0m\u001b[0mself\u001b[0m\u001b[0;34m.\u001b[0m\u001b[0m_maybe_cast_indexer\u001b[0m\u001b[0;34m(\u001b[0m\u001b[0mkey\u001b[0m\u001b[0;34m)\u001b[0m\u001b[0;34m)\u001b[0m\u001b[0;34m\u001b[0m\u001b[0m\n\u001b[0m\u001b[1;32m   2137\u001b[0m \u001b[0;34m\u001b[0m\u001b[0m\n\u001b[1;32m   2138\u001b[0m         \u001b[0mindexer\u001b[0m \u001b[0;34m=\u001b[0m \u001b[0mself\u001b[0m\u001b[0;34m.\u001b[0m\u001b[0mget_indexer\u001b[0m\u001b[0;34m(\u001b[0m\u001b[0;34m[\u001b[0m\u001b[0mkey\u001b[0m\u001b[0;34m]\u001b[0m\u001b[0;34m,\u001b[0m \u001b[0mmethod\u001b[0m\u001b[0;34m=\u001b[0m\u001b[0mmethod\u001b[0m\u001b[0;34m,\u001b[0m \u001b[0mtolerance\u001b[0m\u001b[0;34m=\u001b[0m\u001b[0mtolerance\u001b[0m\u001b[0;34m)\u001b[0m\u001b[0;34m\u001b[0m\u001b[0m\n",
      "\u001b[0;32mpandas/index.pyx\u001b[0m in \u001b[0;36mpandas.index.IndexEngine.get_loc (pandas/index.c:4433)\u001b[0;34m()\u001b[0m\n",
      "\u001b[0;32mpandas/index.pyx\u001b[0m in \u001b[0;36mpandas.index.IndexEngine.get_loc (pandas/index.c:4279)\u001b[0;34m()\u001b[0m\n",
      "\u001b[0;32mpandas/src/hashtable_class_helper.pxi\u001b[0m in \u001b[0;36mpandas.hashtable.PyObjectHashTable.get_item (pandas/hashtable.c:13742)\u001b[0;34m()\u001b[0m\n",
      "\u001b[0;32mpandas/src/hashtable_class_helper.pxi\u001b[0m in \u001b[0;36mpandas.hashtable.PyObjectHashTable.get_item (pandas/hashtable.c:13696)\u001b[0;34m()\u001b[0m\n",
      "\u001b[0;31mKeyError\u001b[0m: 163"
     ]
    }
   ],
   "source": [
    "for n, i in enumerate(df['Total']):\n",
    "    if i > ( totals_mean + (totals_std * 3)):\n",
    "        print(n)\n",
    "        print df[df[n]]\n",
    "        "
   ]
  },
  {
   "cell_type": "markdown",
   "metadata": {
    "deletable": true,
    "editable": true
   },
   "source": [
    "<img src=\"http://imgur.com/xDpSobf.png\" style=\"float: left; margin: 25px 15px 0px 0px; height: 25px\">\n",
    "\n",
    "## 10. Calibrate the frequency of Pokemon\n",
    "\n",
    "The design team wants you to make the powerful Pokemon rare, and the weaklings more common. How would you set the probability $p_i$ of finding Pokemon *i* each time a player visits a gym?\n",
    "\n",
    "Write a function that takes in a Pokedex number and returns a value $p_i$ for that character.\n",
    "\n",
    "Hint: there are many ways you could do this. What do _you_ think makes sense? Start with simplifying assumptions: for example, you could assume that the probabilities of encountering any two Pokemon on one visit to a gym are independent of each other."
   ]
  },
  {
   "cell_type": "code",
   "execution_count": null,
   "metadata": {
    "collapsed": false,
    "deletable": true,
    "editable": true
   },
   "outputs": [],
   "source": []
  }
 ],
 "metadata": {
  "anaconda-cloud": {},
  "kernelspec": {
   "display_name": "Python 2",
   "language": "python",
   "name": "python2"
  },
  "language_info": {
   "codemirror_mode": {
    "name": "ipython",
    "version": 2
   },
   "file_extension": ".py",
   "mimetype": "text/x-python",
   "name": "python",
   "nbconvert_exporter": "python",
   "pygments_lexer": "ipython2",
   "version": "2.7.12"
  }
 },
 "nbformat": 4,
 "nbformat_minor": 0
}
