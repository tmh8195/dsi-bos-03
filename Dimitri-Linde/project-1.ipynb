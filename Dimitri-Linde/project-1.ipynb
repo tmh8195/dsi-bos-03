{
 "cells": [
  {
   "cell_type": "markdown",
   "metadata": {
    "deletable": true,
    "editable": true
   },
   "source": [
    "<img src=\"http://imgur.com/1ZcRyrc.png\" style=\"float: left; margin: 15px; height: 80px\">\n",
    "\n",
    "# Project 1\n",
    "\n",
    "### Building \"Pokemon Stay\"\n",
    "\n",
    "---\n",
    "You are an analyst at a \"scrappy\" online gaming company that specializes in remakes of last year's fads.\n",
    "\n",
    "Your boss, who runs the product development team, is convinced that Pokemon Go's fatal flaw was that you had to actually move around outside. She has design mock-ups for a new game called Pokemon Stay: in this version players still need to move, but just from website to website. Pokemon gyms are now popular online destinations, and catching Pokemon in the \"wild\" simply requires browsing the internet for hours in the comfort of your home.\n",
    "\n",
    "She wants you to program a prototype version of the game, and analyze the planned content to help the team calibrate the design."
   ]
  },
  {
   "cell_type": "markdown",
   "metadata": {
    "deletable": true,
    "editable": true
   },
   "source": [
    "#### Package imports\n",
    "\n",
    "The pprint package below is the only package imported here, and it's not even strictly required to do any of the project. Printing python variables and objects with pprint can help to format them in a \"prettier\" way."
   ]
  },
  {
   "cell_type": "code",
   "execution_count": 6,
   "metadata": {
    "collapsed": true,
    "deletable": true,
    "editable": true
   },
   "outputs": [],
   "source": [
    "from pprint import pprint\n",
    "import random\n",
    "import pandas as pd"
   ]
  },
  {
   "cell_type": "markdown",
   "metadata": {
    "deletable": true,
    "editable": true
   },
   "source": [
    "<img src=\"http://imgur.com/l5NasQj.png\" style=\"float: left; margin: 25px 15px 0px 0px; height: 25px\">\n",
    "\n",
    "## 1. Defining a player\n",
    "\n",
    "---\n",
    "\n",
    "The player variables are:\n",
    "\n",
    "    player_id : id code unique to each player (integer)\n",
    "    player_name : entered name of the player (string)\n",
    "    time_played : number of time played the game in minutes (float)\n",
    "    player_pokemon: the player's captured pokemon (dictionary)\n",
    "    gyms_visited: ids of the gyms that a player has visited (list)\n",
    "    \n",
    "Create the components for a player object by defining each of these variables. The dictionary and list variables should just be defined as empty; you can use any (correctly typed) values for the others."
   ]
  },
  {
   "cell_type": "code",
   "execution_count": 9,
   "metadata": {
    "collapsed": false,
    "deletable": true,
    "editable": true
   },
   "outputs": [],
   "source": [
    "#create player variables\n",
    "players_id = 1\n",
    "player_name = 'Cliff'\n",
    "time_played = 13.5 \n",
    "player_pokemon = {} \n",
    "gyms_visited = []\n"
   ]
  },
  {
   "cell_type": "markdown",
   "metadata": {
    "deletable": true,
    "editable": true
   },
   "source": [
    "<img src=\"http://imgur.com/l5NasQj.png\" style=\"float: left; margin: 25px 15px 0px 0px; height: 25px\">\n",
    "\n",
    "## 2. Defining \"gym\" locations\n",
    "\n",
    "---\n",
    "\n",
    "As the sole programmer, Pokemon Stay will have to start small. To begin, there will be 10 different gym location websites on the internet. The gym locations are:\n",
    "\n",
    "    1. 'reddit.com'\n",
    "    2. 'amazon.com'\n",
    "    3. 'twitter.com'\n",
    "    4. 'linkedin.com'\n",
    "    5. 'ebay.com'\n",
    "    6. 'netflix.com'\n",
    "    7. 'amazon.com'\n",
    "    8. 'stackoverflow.com'\n",
    "    9. 'github.com'\n",
    "    10. 'quora.com'\n",
    "\n",
    "1. Set up a list of all the gym locations. This will be a list of strings.\n",
    "2. Append two of these locations to your player's list of visited gyms.\n",
    "3. Print the list."
   ]
  },
  {
   "cell_type": "code",
   "execution_count": 10,
   "metadata": {
    "collapsed": false,
    "deletable": true,
    "editable": true
   },
   "outputs": [
    {
     "name": "stdout",
     "output_type": "stream",
     "text": [
      "['quora.com', 'github.com']\n"
     ]
    }
   ],
   "source": [
    "#create list of locations\n",
    "gym_locations = ['reddit.com', 'amazon.com', 'twitter.com', 'linkedin.com', 'ebay.com', 'netflix.com', 'amazon.com', \n",
    "                 'stackoverflow.com', 'github.com', 'quora.com']\n",
    "#append to gyms_visted list\n",
    "gyms_visited.append(gym_locations[-1])\n",
    "gyms_visited.append(gym_locations[-2])\n",
    "pprint(gyms_visited)"
   ]
  },
  {
   "cell_type": "markdown",
   "metadata": {
    "deletable": true,
    "editable": true
   },
   "source": [
    "<img src=\"http://imgur.com/l5NasQj.png\" style=\"float: left; margin: 25px 15px 0px 0px; height: 25px\">\n",
    "\n",
    "## 3. Create a pokedex\n",
    "\n",
    "---\n",
    "\n",
    "We also need to create some pokemon to catch. Each pokemon will be defined by these variables:\n",
    "\n",
    "    pokemon_id : unique identifier for each pokemon (integer)\n",
    "    name : the name of the pokemon (string)\n",
    "    type : the category of pokemon (string)\n",
    "    hp : base hitpoints (integer)\n",
    "    attack : base attack (integer)\n",
    "    defense : base defense (integer)\n",
    "    special_attack : base special attack (integer)\n",
    "    special_defense : base sepecial defense (integer)\n",
    "    speed : base speed (integer)\n",
    "\n",
    "We are only going to create 3 different pokemon with these `pokemon_id` and `pokemon_name` values:\n",
    "\n",
    "    1 : 'charmander'\n",
    "    2 : 'squirtle'\n",
    "    3 : 'bulbasaur'\n",
    "\n",
    "Create a dictionary that will contain the pokemon. The keys of the dictionary will be the `pokemon_id` and the values will themselves dictionaries that contain the other pokemon variables. The structure of the pokedex dictionary will start like so:\n",
    "     \n",
    "     {\n",
    "         1: {\n",
    "                 'name':'charmander',\n",
    "                 'type':'fire',\n",
    "                 ...\n",
    "                 \n",
    "The `type` of charmander, squirtle, and bulbasaur should be `'fire'`, `'water'`, and `'poison'` respectively. The other values are up to you, make them anything you like!\n",
    "\n",
    "Print (or pretty print) the pokedex dictionary with the 3 pokemon."
   ]
  },
  {
   "cell_type": "code",
   "execution_count": 20,
   "metadata": {
    "collapsed": false,
    "deletable": true,
    "editable": true
   },
   "outputs": [
    {
     "name": "stdout",
     "output_type": "stream",
     "text": [
      "{1: {'attack': 2,\n",
      "     'defense': 91,\n",
      "     'hp': 64,\n",
      "     'name': 'charmander',\n",
      "     'p_type': 'fire',\n",
      "     'special_attack': 42,\n",
      "     'special_defense': 68,\n",
      "     'speed': 38},\n",
      " 2: {'attack': 22,\n",
      "     'defense': 96,\n",
      "     'hp': 63,\n",
      "     'name': 'squirtle',\n",
      "     'p_type': 'water',\n",
      "     'special_attack': 75,\n",
      "     'special_defense': 20,\n",
      "     'speed': 3},\n",
      " 3: {'attack': 96,\n",
      "     'defense': 32,\n",
      "     'hp': 47,\n",
      "     'name': 'bulbasaur',\n",
      "     'p_type': 'poison',\n",
      "     'special_attack': 78,\n",
      "     'special_defense': 61,\n",
      "     'speed': 68}}\n"
     ]
    }
   ],
   "source": [
    "#list of values for 3 pokemon\n",
    "pokemon_values = [[1,'charmander', 'fire'],[2,'squirtle','water'],[ 3,'bulbasaur', 'poison']]\n",
    "#create pokedex\n",
    "pokedex = {}\n",
    "\n",
    "#function to create dictionary using specified variables\n",
    "def create_dict(values, dictionary):\n",
    "    i = 0\n",
    "    while i <= 2:\n",
    "        dictionary[values[i][0]] = {}\n",
    "        dictionary[values[i][0]]['name'] = values[i][1]\n",
    "        dictionary[values[i][0]]['p_type'] = values[i][2]\n",
    "        dictionary[values[i][0]]['attack'] = random.randint(1,101)\n",
    "        dictionary[values[i][0]]['defense'] = random.randint(1,101)\n",
    "        dictionary[values[i][0]]['hp'] = random.randint(1,101)\n",
    "        dictionary[values[i][0]]['special_attack'] = random.randint(1,101)\n",
    "        dictionary[values[i][0]]['special_defense'] = random.randint(1,101)\n",
    "        dictionary[values[i][0]]['speed'] = random.randint(1,101)\n",
    "        i = i+1\n",
    "            \n",
    "create_dict(pokemon_values, pokedex)\n",
    "pprint(pokedex)"
   ]
  },
  {
   "cell_type": "markdown",
   "metadata": {
    "deletable": true,
    "editable": true
   },
   "source": [
    "<img src=\"http://imgur.com/l5NasQj.png\" style=\"float: left; margin: 25px 15px 0px 0px; height: 25px\">\n",
    "\n",
    "## 4. Create a data structure for players\n",
    "\n",
    "---\n",
    "\n",
    "### 4.1 \n",
    "\n",
    "In order to maintain a database of multiple players, create a dictionary that keeps track of players indexed by `player_id`. \n",
    "\n",
    "The keys of the dictionary will be `player_id` and values will be dictionaries containing each player's variables (from question 1). \n",
    "\n",
    "Construct the `players` dictionary and insert the player that you defined in question 1, then print `players`."
   ]
  },
  {
   "cell_type": "code",
   "execution_count": 16,
   "metadata": {
    "collapsed": false,
    "deletable": true,
    "editable": true
   },
   "outputs": [
    {
     "name": "stdout",
     "output_type": "stream",
     "text": [
      "{1: {'gyms_visited': ['quora.com', 'github.com'],\n",
      "     'player_name': 'Cliff',\n",
      "     'player_pokemon': {},\n",
      "     'time_played': 13.5}}\n"
     ]
    }
   ],
   "source": [
    "#create dictionary using question 1 variables\n",
    "players={}\n",
    "players[players_id]={}\n",
    "players[players_id]['player_name'] = player_name\n",
    "players[players_id]['time_played'] = time_played\n",
    "players[players_id]['gyms_visited'] = gyms_visited\n",
    "players[players_id]['player_pokemon'] = player_pokemon\n",
    "pprint(players)"
   ]
  },
  {
   "cell_type": "markdown",
   "metadata": {
    "deletable": true,
    "editable": true
   },
   "source": [
    "---\n",
    "\n",
    "### 4.2\n",
    "\n",
    "Create a new player with `player_id = 2` in the `players` dictionary. Leave the `'player_pokemon'` dictionary empty. Append `'alcatraz'` and `'pacific_beach'` to the `'gyms_visited'` list for player 2.\n",
    "\n",
    "The `'player_name'` and `'time_played'` values are up to you, but must be a string and float, respectively.\n",
    "\n",
    "Remember, the player_id is the key for the player in the players dictionary.\n",
    "\n",
    "Print the `players` dictionary with the new player inserted."
   ]
  },
  {
   "cell_type": "code",
   "execution_count": 17,
   "metadata": {
    "collapsed": false,
    "deletable": true,
    "editable": true
   },
   "outputs": [
    {
     "name": "stdout",
     "output_type": "stream",
     "text": [
      "{1: {'gyms_visited': ['quora.com', 'github.com'],\n",
      "     'player_name': 'Cliff',\n",
      "     'player_pokemon': {},\n",
      "     'time_played': 13.5},\n",
      " 2: {'gyms_visited': ['alcatraz', 'pacific_beach'],\n",
      "     'player_name': 'Clay',\n",
      "     'player_pokemon': {},\n",
      "     'time_played': 19.2}}\n"
     ]
    }
   ],
   "source": [
    "#add new player to players dictionary using same variables\n",
    "players[2]={}\n",
    "players[2]['player_name'] = 'Clay'\n",
    "players[2]['time_played'] = 19.2\n",
    "players[2]['gyms_visited'] = ['alcatraz', 'pacific_beach'] \n",
    "players[2]['player_pokemon'] = {}\n",
    "pprint(players)"
   ]
  },
  {
   "cell_type": "markdown",
   "metadata": {
    "deletable": true,
    "editable": true
   },
   "source": [
    "<img src=\"http://imgur.com/l5NasQj.png\" style=\"float: left; margin: 25px 15px 0px 0px; height: 25px\">\n",
    "\n",
    "## 5. Add captured pokemon for each player\n",
    "\n",
    "---\n",
    "\n",
    "The `'player_pokemon'` keyed dictionaries for each player keep track of which of the pokemon each player has.\n",
    "\n",
    "The keys of the `'player_pokemon'` dictionaries are the pokemon ids that correspond to the ids in the `pokedex` dictionary you created earlier. The values are integers specifying the stats for the pokemon.\n",
    "\n",
    "Give player 1 a squirtle. Give player 2 charmander and a bulbasaur.\n",
    "\n",
    "Print the players dictionary after adding the pokemon for each player.\n"
   ]
  },
  {
   "cell_type": "code",
   "execution_count": 543,
   "metadata": {
    "collapsed": false,
    "deletable": true,
    "editable": true
   },
   "outputs": [
    {
     "name": "stdout",
     "output_type": "stream",
     "text": [
      "{1: {'gyms_visited': ['quora.com', 'github.com'],\n",
      "     'player_name': 'Cliff',\n",
      "     'player_pokemon': {2: 200},\n",
      "     'time_played': 13.5},\n",
      " 2: {'gyms_visited': ['alcatraz', 'pacific_beach'],\n",
      "     'player_name': 'Clay',\n",
      "     'player_pokemon': {1: 100, 3: 300},\n",
      "     'time_played': 19.2}}\n"
     ]
    }
   ],
   "source": [
    "#adding pokemon_id from pokedex of relevant pokemon and assigning random integer value\n",
    "players[1]['player_pokemon'][2] = 200 \n",
    "players[2]['player_pokemon'][1] = 100 \n",
    "players[2]['player_pokemon'][3] = 300\n",
    "pprint(players)"
   ]
  },
  {
   "cell_type": "markdown",
   "metadata": {
    "deletable": true,
    "editable": true
   },
   "source": [
    "\n",
    "\n",
    "## 6. What gyms have players visited?\n",
    "\n",
    "---\n",
    "<img src=\"http://imgur.com/l5NasQj.png\" style=\"float: left; margin: 25px 15px 0px 0px; height: 25px\">\n",
    "### 6.1\n",
    "\n",
    "Write a for-loop that:\n",
    "\n",
    "1. Iterates through the `pokemon_gyms` list of gym locations you defined before.\n",
    "2. For each gym, iterate through each player in the `players` dictionary with a second, internal for-loop.\n",
    "3. If the player has visited the gym, print out \"[player] has visited [gym location].\", filling in [player] and [gym location] with the current player's name and current gym location."
   ]
  },
  {
   "cell_type": "code",
   "execution_count": 21,
   "metadata": {
    "collapsed": false,
    "deletable": true,
    "editable": true
   },
   "outputs": [
    {
     "name": "stdout",
     "output_type": "stream",
     "text": [
      "Cliff has visited github.com.\n",
      "Cliff has visited quora.com.\n"
     ]
    }
   ],
   "source": [
    "for e in gym_locations:\n",
    "#iterates through list of gym_locations\n",
    "    for key in players.iterkeys():\n",
    "#iterates through keys in players dictionary\n",
    "        if e in players[key]['gyms_visited']:\n",
    "#checking if gym_location is in a players gyms_visited list\n",
    "            i = 0\n",
    "            while i < len(players[key]['gyms_visited']):\n",
    "#iterating through each element in each individual player's gyms_visited list\n",
    "                if e in players[key]['gyms_visited'][i]:\n",
    "                    print(players[key]['player_name'] + ' has visited ' + players[key]['gyms_visited'][i] + '.')\n",
    "#if element in gyms_visited list finds match in players gyms_visited list\n",
    "                i = i+1"
   ]
  },
  {
   "cell_type": "markdown",
   "metadata": {
    "deletable": true,
    "editable": true
   },
   "source": [
    "<img src=\"http://imgur.com/xDpSobf.png\" style=\"float: left; margin: 25px 15px 0px 0px; height: 25px\">\n",
    "### 6.2\n",
    "\n",
    "How many times did that loop run? If you have N gyms and also N players, how many times would it run as a function of N?\n",
    "\n",
    "Can you think of a more efficient way to accomplish the same thing? \n",
    "\n",
    "(You can write your answer as Markdown text.)"
   ]
  },
  {
   "cell_type": "code",
   "execution_count": 327,
   "metadata": {
    "collapsed": false,
    "deletable": true,
    "editable": true
   },
   "outputs": [
    {
     "name": "stdout",
     "output_type": "stream",
     "text": [
      "Cliff has visited github.com.\n",
      "Cliff has visited quora.com.\n",
      "22\n"
     ]
    }
   ],
   "source": [
    "count = 0\n",
    "for e in gym_locations:\n",
    "    for key in players.iterkeys():\n",
    "        if e in players[key]['gyms_visited']:\n",
    "            i = 0\n",
    "            while i < len(players[key]['gyms_visited']):\n",
    "                if e in players[key]['gyms_visited'][i]:\n",
    "                    print(players[key]['player_name'] + ' has visited ' + players[key]['gyms_visited'][i] + '.')\n",
    "                i = i+1\n",
    "                count = count+1\n",
    "        else:\n",
    "            count = count+1 \n",
    "print count\n",
    "\n",
    "#The loop I created ran 22 times. It is checking each element in the list gym_locations against each player's\n",
    "#values in the gyms_visited key. If the element is in the gyms_visited key, the element passes into a while loop \n",
    "#which checks the elemenet against each individual value in the key.\n",
    "#Mathemetically, this loop would run Ngyms*Nplayers+range(len(gyms_visted),(2*len(gyms_visited)))\n",
    "#This loop would be more efficient if, after printing out all matching values, the loop broke without continuing\n",
    "#to check additional items in the list. To do this, we'd want to check each player individually, as opposed to \n",
    "#switching between both, as the loop does now."
   ]
  },
  {
   "cell_type": "markdown",
   "metadata": {
    "deletable": true,
    "editable": true
   },
   "source": [
    "<img src=\"http://imgur.com/l5NasQj.png\" style=\"float: left; margin: 25px 15px 0px 0px; height: 25px\">\n",
    "\n",
    "## 7. Calculate player \"power\".\n",
    "\n",
    "---\n",
    "\n",
    "Define a function that will calculate a player's \"power\". Player power is defined as the sum of the base statistics all of their pokemon.\n",
    "\n",
    "Your function will:\n",
    "\n",
    "1. Accept the `players` dictionary, `pokedex` dictionary, and a player_id as arguments.\n",
    "2. For the specified player_id, look up that player's pokemon and their level(s).\n",
    "3. Find and aggregate the attack and defense values for each of the player's pokemon from the `pokedex` dictionary.\n",
    "4. Print \"[player name]'s power is [player power].\", where the player power is the sum of the base statistics for all of their pokemon.\n",
    "5. Return the player's power value.\n",
    "\n",
    "Print out the pokemon power for each of your players."
   ]
  },
  {
   "cell_type": "code",
   "execution_count": 545,
   "metadata": {
    "collapsed": false,
    "deletable": true,
    "editable": true
   },
   "outputs": [
    {
     "name": "stdout",
     "output_type": "stream",
     "text": [
      "Clay's power is 170.\n"
     ]
    }
   ],
   "source": [
    "def power(players_dict, pokedex, player_id):\n",
    "    key_list = []\n",
    "    power = []\n",
    "    player_pokemon = players_dict[player_id]['player_pokemon']\n",
    "    for key in player_pokemon.iterkeys():\n",
    "        key_list.append(key)\n",
    "    for key in key_list:\n",
    "        power.append(pokedex[key]['attack'])\n",
    "        power.append(pokedex[key]['defense'])\n",
    "    print players_dict[player_id]['player_name'] + \"'s power is \" + str(sum(power)) + '.'\n",
    "\n",
    "power(players, pokedex, 2)"
   ]
  },
  {
   "cell_type": "markdown",
   "metadata": {
    "collapsed": true,
    "deletable": true,
    "editable": true
   },
   "source": [
    "<img src=\"http://imgur.com/l5NasQj.png\" style=\"float: left; margin: 25px 15px 0px 0px; height: 25px\">\n",
    "\n",
    "## 8. Load a pokedex file containing all the pokemon\n",
    "\n",
    "---\n",
    "\n",
    "### 8.1\n",
    "\n",
    "While you were putting together the prototype code, your colleagues were preparing a dataset of Pokemon and their attributes. (This was a rush job, so they may have picked some crazy values for some...)\n",
    "\n",
    "The code below loads information from a comma separated value (csv) file. You need to parse this string into a more useable format. The format of the string is:\n",
    "\n",
    "- Rows are separated by newline characters: \\n\n",
    "- Columns are separated by commas: ,\n",
    "- All cells in the csv are double quoted. Ex: \"PokedexNumber\" is the first cell of the first row.\n",
    "\n",
    "\n",
    "Using for-loops, create a list of lists where each list within the overall list is a row of the csv/matrix, and each element in that list is a cell in that row. Additional criteria:\n",
    "\n",
    "1. Quotes are removed from each cell item.\n",
    "2. Numeric column values are converted to floats.\n",
    "3. There are some cells that are empty and have no information. For these cells put a -1 value in place.\n",
    "\n",
    "Your end result is effectively a matrix. Each list in the outer list is a row, and the *j*th elements of list together form the *j*th column, which represents a data attribute. The first three lists in your pokedex list should look like this:\n",
    "\n",
    "    ['PokedexNumber', 'Name', 'Type', 'Total', 'HP', 'Attack', 'Defense', 'SpecialAttack', 'SpecialDefense', 'Speed']\n",
    "    [1.0, 'Bulbasaur', 'GrassPoison', 318.0, 45.0, 49.0, 49.0, 65.0, 65.0, 45.0]\n",
    "    [2.0, 'Ivysaur', 'GrassPoison', 405.0, 60.0, 62.0, 63.0, 80.0, 80.0, 60.0]"
   ]
  },
  {
   "cell_type": "code",
   "execution_count": 416,
   "metadata": {
    "collapsed": false,
    "deletable": true,
    "editable": true
   },
   "outputs": [],
   "source": [
    "# Code to read in pokedex info\n",
    "raw_pd = ''\n",
    "pokedex_file = 'pokedex_basic.csv'\n",
    "with open(pokedex_file, 'r') as f:\n",
    "    raw_pd = f.read()\n",
    "    \n",
    "# the pokedex string is assigned to the raw_pd variable"
   ]
  },
  {
   "cell_type": "code",
   "execution_count": 617,
   "metadata": {
    "collapsed": false,
    "deletable": true,
    "editable": true
   },
   "outputs": [
    {
     "data": {
      "text/html": [
       "<div>\n",
       "<table border=\"1\" class=\"dataframe\">\n",
       "  <thead>\n",
       "    <tr style=\"text-align: right;\">\n",
       "      <th></th>\n",
       "      <th>PokedexNumber</th>\n",
       "      <th>Name</th>\n",
       "      <th>Type</th>\n",
       "      <th>Total</th>\n",
       "      <th>HP</th>\n",
       "      <th>Attack</th>\n",
       "      <th>Defense</th>\n",
       "      <th>SpecialAttack</th>\n",
       "      <th>SpecialDefense</th>\n",
       "      <th>Speed</th>\n",
       "    </tr>\n",
       "  </thead>\n",
       "  <tbody>\n",
       "    <tr>\n",
       "      <th>0</th>\n",
       "      <td>1</td>\n",
       "      <td>Bulbasaur</td>\n",
       "      <td>GrassPoison</td>\n",
       "      <td>318</td>\n",
       "      <td>45</td>\n",
       "      <td>49</td>\n",
       "      <td>49</td>\n",
       "      <td>65</td>\n",
       "      <td>65</td>\n",
       "      <td>45</td>\n",
       "    </tr>\n",
       "    <tr>\n",
       "      <th>1</th>\n",
       "      <td>2</td>\n",
       "      <td>Ivysaur</td>\n",
       "      <td>GrassPoison</td>\n",
       "      <td>405</td>\n",
       "      <td>60</td>\n",
       "      <td>62</td>\n",
       "      <td>63</td>\n",
       "      <td>80</td>\n",
       "      <td>80</td>\n",
       "      <td>60</td>\n",
       "    </tr>\n",
       "    <tr>\n",
       "      <th>2</th>\n",
       "      <td>3</td>\n",
       "      <td>Venusaur</td>\n",
       "      <td>GrassPoison</td>\n",
       "      <td>525</td>\n",
       "      <td>80</td>\n",
       "      <td>82</td>\n",
       "      <td>83</td>\n",
       "      <td>100</td>\n",
       "      <td>100</td>\n",
       "      <td>80</td>\n",
       "    </tr>\n",
       "    <tr>\n",
       "      <th>3</th>\n",
       "      <td>3</td>\n",
       "      <td>VenusaurMega Venusaur</td>\n",
       "      <td>GrassPoison</td>\n",
       "      <td>625</td>\n",
       "      <td>80</td>\n",
       "      <td>100</td>\n",
       "      <td>123</td>\n",
       "      <td>122</td>\n",
       "      <td>120</td>\n",
       "      <td>80</td>\n",
       "    </tr>\n",
       "    <tr>\n",
       "      <th>4</th>\n",
       "      <td>4</td>\n",
       "      <td>Charmander</td>\n",
       "      <td>Fire</td>\n",
       "      <td>309</td>\n",
       "      <td>39</td>\n",
       "      <td>52</td>\n",
       "      <td>43</td>\n",
       "      <td>60</td>\n",
       "      <td>50</td>\n",
       "      <td>65</td>\n",
       "    </tr>\n",
       "  </tbody>\n",
       "</table>\n",
       "</div>"
      ],
      "text/plain": [
       "   PokedexNumber                   Name         Type  Total  HP  Attack  \\\n",
       "0              1              Bulbasaur  GrassPoison    318  45      49   \n",
       "1              2                Ivysaur  GrassPoison    405  60      62   \n",
       "2              3               Venusaur  GrassPoison    525  80      82   \n",
       "3              3  VenusaurMega Venusaur  GrassPoison    625  80     100   \n",
       "4              4             Charmander         Fire    309  39      52   \n",
       "\n",
       "   Defense  SpecialAttack  SpecialDefense  Speed  \n",
       "0       49             65              65     45  \n",
       "1       63             80              80     60  \n",
       "2       83            100             100     80  \n",
       "3      123            122             120     80  \n",
       "4       43             60              50     65  "
      ]
     },
     "execution_count": 617,
     "metadata": {},
     "output_type": "execute_result"
    }
   ],
   "source": [
    "instead = pd.read_csv(pokedex_file)\n",
    "instead.head()\n",
    "#mask = instead['SpecialDefense'].isnull()\n",
    "#instead[mask].head()"
   ]
  },
  {
   "cell_type": "markdown",
   "metadata": {
    "deletable": true,
    "editable": true
   },
   "source": [
    "<img src=\"http://imgur.com/xDpSobf.png\" style=\"float: left; margin: 25px 15px 0px 0px; height: 25px\">\n",
    "\n",
    "### 8.2 Parse the raw pokedex with list comprehensions\n",
    "\n",
    "---\n",
    "\n",
    "Perform the same parsing as above, but **using only a single list comprehension** instead of for loops. You may have nested list comprehensions within the main list comprehension! The output should be exactly the same."
   ]
  },
  {
   "cell_type": "code",
   "execution_count": null,
   "metadata": {
    "collapsed": false,
    "deletable": true,
    "editable": true
   },
   "outputs": [],
   "source": []
  },
  {
   "cell_type": "markdown",
   "metadata": {
    "deletable": true,
    "editable": true
   },
   "source": [
    "<img src=\"http://imgur.com/l5NasQj.png\" style=\"float: left; margin: 25px 15px 0px 0px; height: 25px\">\n",
    "\n",
    "## 9. Write a function to generate the full pokedex\n",
    "\n",
    "---\n",
    "\n",
    "Write a function that recreates the pokedex you made before, but with the data read in from the full pokemon file. The `PokedexNumber` should be used as the `pokemon_id` key values for the dictionary of pokemon.\n",
    "\n",
    "Your function should:\n",
    "\n",
    "1. Take the parsed pokedex information you created above as an argument.\n",
    "2. Return a dictionary in the same format as your original pokedex you created before containing the information from the parsed full pokedex file.\n",
    "\n",
    "To test the function, print out the pokemon with id = 100."
   ]
  },
  {
   "cell_type": "code",
   "execution_count": 581,
   "metadata": {
    "collapsed": false,
    "deletable": true,
    "editable": true,
    "scrolled": true
   },
   "outputs": [
    {
     "name": "stdout",
     "output_type": "stream",
     "text": [
      "{'attack': 49,\n",
      " 'defense': 49,\n",
      " 'hp': 45,\n",
      " 'name': 'Bulbasaur',\n",
      " 'p_type': 'GrassPoison',\n",
      " 'special_attack': 65,\n",
      " 'special_defense': 65,\n",
      " 'speed': 45,\n",
      " 'total': 318}\n"
     ]
    }
   ],
   "source": [
    "#PokedexNumber\tName\tType\tTotal\tHP\tAttack\tDefense\tSpecialAttack\tSpecialDefense\tSpeed\n",
    "full_pokedex = {}\n",
    "\n",
    "def pokedex_update(dictionary, df):\n",
    "    count = 0\n",
    "    pokemon_id = 1\n",
    "    while count <= 799:\n",
    "        dictionary[pokemon_id] = {}\n",
    "        dictionary[pokemon_id]['name'] = df.iloc[count][1]\n",
    "        dictionary[pokemon_id]['p_type'] = df.iloc[count][2]\n",
    "        dictionary[pokemon_id]['total'] = df.iloc[count][3]\n",
    "        dictionary[pokemon_id]['attack'] = df.iloc[count][5]\n",
    "        dictionary[pokemon_id]['defense'] = df.iloc[count][6]\n",
    "        dictionary[pokemon_id]['hp'] = df.iloc[count][4]\n",
    "        dictionary[pokemon_id]['special_attack'] = df.iloc[count][7]\n",
    "        dictionary[pokemon_id]['special_defense'] = df.iloc[count][8]\n",
    "        dictionary[pokemon_id]['speed'] = df.iloc[count][9]\n",
    "        count = count + 1\n",
    "        pokemon_id = pokemon_id+1\n",
    "        \n",
    "    \n",
    "pokedex_update(full_pokedex, instead)\n",
    "pprint(full_pokedex[1])"
   ]
  },
  {
   "cell_type": "markdown",
   "metadata": {
    "deletable": true,
    "editable": true
   },
   "source": [
    "<img src=\"http://i.imgur.com/GCAf1UX.png\" style=\"float: left; margin: 25px 15px 0px 0px; height: 25px\">\n",
    "\n",
    "## 10. Write a function to generate a \"filtered\" pokedex\n",
    "---\n",
    "Your function should:\n",
    "1. Take the parsed pokedex information you created above as an argument.\n",
    "1. Take a dictionary as a parameter with keys matching the features of the Pokedex, filtering by exact match for string type values, and/or filter continuous variables specified value that is greater than or equal to the dictionary key parameter.\n",
    "1. Return multiple elements from the Pokedex\n",
    "\n",
    "Example:\n",
    "\n",
    "```python\n",
    "\n",
    "# Only filter based on parameters passed\n",
    "filter_options = {\n",
    "    'Attack':   25,\n",
    "    'Defense':  30,\n",
    "    'Type':     'Electric'\n",
    "}\n",
    "\n",
    "# Return records with attack >= 24, defense >= 30, and type == \"Electric\"\n",
    "# Also anticipate that other paramters can also be passed such as \"SpecialAttack\", \"Speed\", etc.\n",
    "filtered_pokedex(pokedex_data, filter=filter_options)\n",
    "\n",
    "# Example output:\n",
    "# [{'Attack': 30.0,\n",
    "#  'Defense': 50.0,\n",
    "#  'HP': 40.0,\n",
    "#  'Name': 'Voltorb',\n",
    "#  'SpecialAttack': 55.0,\n",
    "#  'SpecialDefense': 55.0,\n",
    "#  'Speed': 100.0,\n",
    "#  'Total': 330.0,\n",
    "#  'Type': 'Electric'},\n",
    "#  {'Attack': 30.0,\n",
    "#  'Defense': 33.0,\n",
    "#  'HP': 32.0,\n",
    "#  'Name': 'Pikachu',\n",
    "#  'SpecialAttack': 55.0,\n",
    "#  'SpecialDefense': 55.0,\n",
    "#  'Speed': 100.0,\n",
    "#  'Total': 330.0,\n",
    "#  'Type': 'Electric'},\n",
    "#  ... etc\n",
    "#  ]\n",
    "\n",
    "```\n",
    "\n"
   ]
  },
  {
   "cell_type": "code",
   "execution_count": 563,
   "metadata": {
    "collapsed": false,
    "deletable": true,
    "editable": true
   },
   "outputs": [
    {
     "name": "stdout",
     "output_type": "stream",
     "text": [
      "[{'attack': 55,\n",
      "  'defense': 40,\n",
      "  'hp': 35,\n",
      "  'name': 'Pikachu',\n",
      "  'p_type': 'Electric',\n",
      "  'special_attack': 50,\n",
      "  'special_defense': 50,\n",
      "  'speed': 90,\n",
      "  'total': 320},\n",
      " {'attack': 90,\n",
      "  'defense': 55,\n",
      "  'hp': 60,\n",
      "  'name': 'Raichu',\n",
      "  'p_type': 'Electric',\n",
      "  'special_attack': 90,\n",
      "  'special_defense': 80,\n",
      "  'speed': 110,\n",
      "  'total': 485},\n",
      " {'attack': 30,\n",
      "  'defense': 50,\n",
      "  'hp': 40,\n",
      "  'name': 'Voltorb',\n",
      "  'p_type': 'Electric',\n",
      "  'special_attack': 55,\n",
      "  'special_defense': 55,\n",
      "  'speed': 100,\n",
      "  'total': 330},\n",
      " {'attack': 50,\n",
      "  'defense': 70,\n",
      "  'hp': 60,\n",
      "  'name': 'Electrode',\n",
      "  'p_type': 'Electric',\n",
      "  'special_attack': 80,\n",
      "  'special_defense': 80,\n",
      "  'speed': 140,\n",
      "  'total': 480},\n",
      " {'attack': 83,\n",
      "  'defense': 57,\n",
      "  'hp': 65,\n",
      "  'name': 'Electabuzz',\n",
      "  'p_type': 'Electric',\n",
      "  'special_attack': 95,\n",
      "  'special_defense': 85,\n",
      "  'speed': 105,\n",
      "  'total': 490},\n",
      " {'attack': 65,\n",
      "  'defense': 60,\n",
      "  'hp': 65,\n",
      "  'name': 'Jolteon',\n",
      "  'p_type': 'Electric',\n",
      "  'special_attack': 110,\n",
      "  'special_defense': 95,\n",
      "  'speed': 130,\n",
      "  'total': 525},\n",
      " {'attack': 40,\n",
      "  'defense': 40,\n",
      "  'hp': 55,\n",
      "  'name': 'Mareep',\n",
      "  'p_type': 'Electric',\n",
      "  'special_attack': 65,\n",
      "  'special_defense': 45,\n",
      "  'speed': 35,\n",
      "  'total': 280},\n",
      " {'attack': 55,\n",
      "  'defense': 55,\n",
      "  'hp': 70,\n",
      "  'name': 'Flaaffy',\n",
      "  'p_type': 'Electric',\n",
      "  'special_attack': 80,\n",
      "  'special_defense': 60,\n",
      "  'speed': 45,\n",
      "  'total': 365},\n",
      " {'attack': 75,\n",
      "  'defense': 85,\n",
      "  'hp': 90,\n",
      "  'name': 'Ampharos',\n",
      "  'p_type': 'Electric',\n",
      "  'special_attack': 115,\n",
      "  'special_defense': 90,\n",
      "  'speed': 55,\n",
      "  'total': 510},\n",
      " {'attack': 63,\n",
      "  'defense': 37,\n",
      "  'hp': 45,\n",
      "  'name': 'Elekid',\n",
      "  'p_type': 'Electric',\n",
      "  'special_attack': 65,\n",
      "  'special_defense': 55,\n",
      "  'speed': 95,\n",
      "  'total': 360},\n",
      " {'attack': 85,\n",
      "  'defense': 75,\n",
      "  'hp': 90,\n",
      "  'name': 'Raikou',\n",
      "  'p_type': 'Electric',\n",
      "  'special_attack': 115,\n",
      "  'special_defense': 100,\n",
      "  'speed': 115,\n",
      "  'total': 580},\n",
      " {'attack': 45,\n",
      "  'defense': 40,\n",
      "  'hp': 40,\n",
      "  'name': 'Electrike',\n",
      "  'p_type': 'Electric',\n",
      "  'special_attack': 65,\n",
      "  'special_defense': 40,\n",
      "  'speed': 65,\n",
      "  'total': 295},\n",
      " {'attack': 75,\n",
      "  'defense': 60,\n",
      "  'hp': 70,\n",
      "  'name': 'Manectric',\n",
      "  'p_type': 'Electric',\n",
      "  'special_attack': 105,\n",
      "  'special_defense': 60,\n",
      "  'speed': 105,\n",
      "  'total': 475},\n",
      " {'attack': 75,\n",
      "  'defense': 80,\n",
      "  'hp': 70,\n",
      "  'name': 'ManectricMega Manectric',\n",
      "  'p_type': 'Electric',\n",
      "  'special_attack': 135,\n",
      "  'special_defense': 80,\n",
      "  'speed': 135,\n",
      "  'total': 575},\n",
      " {'attack': 50,\n",
      "  'defense': 40,\n",
      "  'hp': 60,\n",
      "  'name': 'Plusle',\n",
      "  'p_type': 'Electric',\n",
      "  'special_attack': 85,\n",
      "  'special_defense': 75,\n",
      "  'speed': 95,\n",
      "  'total': 405},\n",
      " {'attack': 40,\n",
      "  'defense': 50,\n",
      "  'hp': 60,\n",
      "  'name': 'Minun',\n",
      "  'p_type': 'Electric',\n",
      "  'special_attack': 75,\n",
      "  'special_defense': 85,\n",
      "  'speed': 95,\n",
      "  'total': 405},\n",
      " {'attack': 65,\n",
      "  'defense': 34,\n",
      "  'hp': 45,\n",
      "  'name': 'Shinx',\n",
      "  'p_type': 'Electric',\n",
      "  'special_attack': 40,\n",
      "  'special_defense': 34,\n",
      "  'speed': 45,\n",
      "  'total': 263},\n",
      " {'attack': 85,\n",
      "  'defense': 49,\n",
      "  'hp': 60,\n",
      "  'name': 'Luxio',\n",
      "  'p_type': 'Electric',\n",
      "  'special_attack': 60,\n",
      "  'special_defense': 49,\n",
      "  'speed': 60,\n",
      "  'total': 363},\n",
      " {'attack': 120,\n",
      "  'defense': 79,\n",
      "  'hp': 80,\n",
      "  'name': 'Luxray',\n",
      "  'p_type': 'Electric',\n",
      "  'special_attack': 95,\n",
      "  'special_defense': 79,\n",
      "  'speed': 70,\n",
      "  'total': 523},\n",
      " {'attack': 45,\n",
      "  'defense': 70,\n",
      "  'hp': 60,\n",
      "  'name': 'Pachirisu',\n",
      "  'p_type': 'Electric',\n",
      "  'special_attack': 45,\n",
      "  'special_defense': 90,\n",
      "  'speed': 95,\n",
      "  'total': 405},\n",
      " {'attack': 123,\n",
      "  'defense': 67,\n",
      "  'hp': 75,\n",
      "  'name': 'Electivire',\n",
      "  'p_type': 'Electric',\n",
      "  'special_attack': 95,\n",
      "  'special_defense': 85,\n",
      "  'speed': 95,\n",
      "  'total': 540},\n",
      " {'attack': 60,\n",
      "  'defense': 32,\n",
      "  'hp': 45,\n",
      "  'name': 'Blitzle',\n",
      "  'p_type': 'Electric',\n",
      "  'special_attack': 50,\n",
      "  'special_defense': 32,\n",
      "  'speed': 76,\n",
      "  'total': 295},\n",
      " {'attack': 100,\n",
      "  'defense': 63,\n",
      "  'hp': 75,\n",
      "  'name': 'Zebstrika',\n",
      "  'p_type': 'Electric',\n",
      "  'special_attack': 80,\n",
      "  'special_defense': 63,\n",
      "  'speed': 116,\n",
      "  'total': 497},\n",
      " {'attack': 55,\n",
      "  'defense': 40,\n",
      "  'hp': 35,\n",
      "  'name': 'Tynamo',\n",
      "  'p_type': 'Electric',\n",
      "  'special_attack': 45,\n",
      "  'special_defense': 40,\n",
      "  'speed': 60,\n",
      "  'total': 275},\n",
      " {'attack': 85,\n",
      "  'defense': 70,\n",
      "  'hp': 65,\n",
      "  'name': 'Eelektrik',\n",
      "  'p_type': 'Electric',\n",
      "  'special_attack': 75,\n",
      "  'special_defense': 70,\n",
      "  'speed': 40,\n",
      "  'total': 405},\n",
      " {'attack': 115,\n",
      "  'defense': 80,\n",
      "  'hp': 85,\n",
      "  'name': 'Eelektross',\n",
      "  'p_type': 'Electric',\n",
      "  'special_attack': 105,\n",
      "  'special_defense': 80,\n",
      "  'speed': 50,\n",
      "  'total': 515}]\n"
     ]
    }
   ],
   "source": [
    "def filtered_dict(dictionary):\n",
    "    filter_list = []\n",
    "    for key in dictionary.iterkeys():\n",
    "        if dictionary[key]['attack'] >= 24 and dictionary[key]['defense'] >= 30 and \\\n",
    "            dictionary[key]['p_type'] == 'Electric':\n",
    "            filter_list.append(dictionary[key])\n",
    "    return filter_list\n",
    "    \n",
    "pprint(filtered_dict(full_pokedex))"
   ]
  },
  {
   "cell_type": "markdown",
   "metadata": {
    "collapsed": true,
    "deletable": true,
    "editable": true
   },
   "source": [
    "\n",
    "## 9. Descriptive statistics on the prototype pokedex\n",
    "\n",
    "<img src=\"http://imgur.com/l5NasQj.png\" style=\"float: left; margin: 25px 15px 0px 0px; height: 25px\">\n",
    "### 9.1\n",
    "\n",
    "What is the population mean and standard deviation of the \"Total\" attribute for all characters in the Pokedex?\n",
    "\n"
   ]
  },
  {
   "cell_type": "code",
   "execution_count": 566,
   "metadata": {
    "collapsed": false,
    "deletable": true,
    "editable": true
   },
   "outputs": [
    {
     "name": "stdout",
     "output_type": "stream",
     "text": [
      "(435.1275, 120.03706663134025)\n"
     ]
    }
   ],
   "source": [
    "mean = instead['Total'].mean()\n",
    "std_dev = instead['Total'].std()\n",
    "print(mean, std_dev)"
   ]
  },
  {
   "cell_type": "markdown",
   "metadata": {
    "deletable": true,
    "editable": true
   },
   "source": [
    "<img src=\"http://imgur.com/l5NasQj.png\" style=\"float: left; margin: 25px 15px 0px 0px; height: 25px\">\n",
    "### 9.2\n",
    "\n",
    "The game is no fun if the characters are wildly unbalanced! Are any characters \"overpowered\", which we'll define as having a \"Total\" more than three standard deviations from the population mean?"
   ]
  },
  {
   "cell_type": "code",
   "execution_count": 600,
   "metadata": {
    "collapsed": false,
    "deletable": true,
    "editable": true
   },
   "outputs": [
    {
     "data": {
      "text/html": [
       "<div>\n",
       "<table border=\"1\" class=\"dataframe\">\n",
       "  <thead>\n",
       "    <tr style=\"text-align: right;\">\n",
       "      <th></th>\n",
       "      <th>PokedexNumber</th>\n",
       "      <th>Name</th>\n",
       "      <th>Type</th>\n",
       "      <th>Total</th>\n",
       "      <th>HP</th>\n",
       "      <th>Attack</th>\n",
       "      <th>Defense</th>\n",
       "      <th>SpecialAttack</th>\n",
       "      <th>SpecialDefense</th>\n",
       "      <th>Speed</th>\n",
       "    </tr>\n",
       "  </thead>\n",
       "  <tbody>\n",
       "    <tr>\n",
       "      <th>163</th>\n",
       "      <td>150</td>\n",
       "      <td>MewtwoMega Mewtwo X</td>\n",
       "      <td>PsychicFighting</td>\n",
       "      <td>800</td>\n",
       "      <td>126</td>\n",
       "      <td>190</td>\n",
       "      <td>100</td>\n",
       "      <td>154</td>\n",
       "      <td>100</td>\n",
       "      <td>130</td>\n",
       "    </tr>\n",
       "  </tbody>\n",
       "</table>\n",
       "</div>"
      ],
      "text/plain": [
       "     PokedexNumber                 Name             Type  Total   HP  Attack  \\\n",
       "163            150  MewtwoMega Mewtwo X  PsychicFighting    800  126     190   \n",
       "\n",
       "     Defense  SpecialAttack  SpecialDefense  Speed  \n",
       "163      100            154             100    130  "
      ]
     },
     "execution_count": 600,
     "metadata": {},
     "output_type": "execute_result"
    }
   ],
   "source": [
    "overpowered = 435.1275 + 3*120.04\n",
    "instead[instead['Total'] > overpowered]"
   ]
  },
  {
   "cell_type": "markdown",
   "metadata": {
    "deletable": true,
    "editable": true
   },
   "source": [
    "<img src=\"http://imgur.com/xDpSobf.png\" style=\"float: left; margin: 25px 15px 0px 0px; height: 25px\">\n",
    "\n",
    "## 10. Calibrate the frequency of Pokemon\n",
    "\n",
    "The design team wants you to make the powerful Pokemon rare, and the weaklings more common. How would you set the probability $p_i$ of finding Pokemon *i* each time a player visits a gym?\n",
    "\n",
    "Write a function that takes in a Pokedex number and returns a value $p_i$ for that character.\n",
    "\n",
    "Hint: there are many ways you could do this. What do _you_ think makes sense? Start with simplifying assumptions: for example, you could assume that the probabilities of encountering any two Pokemon on one visit to a gym are independent of each other."
   ]
  },
  {
   "cell_type": "code",
   "execution_count": 599,
   "metadata": {
    "collapsed": false,
    "deletable": true,
    "editable": true
   },
   "outputs": [
    {
     "name": "stdout",
     "output_type": "stream",
     "text": [
      "(4.345901000000002,\n",
      " {'attack': 49,\n",
      "  'defense': 49,\n",
      "  'frequency': 0.090909,\n",
      "  'hp': 45,\n",
      "  'name': 'Bulbasaur',\n",
      "  'p_type': 'GrassPoison',\n",
      "  'special_attack': 65,\n",
      "  'special_defense': 65,\n",
      "  'speed': 45,\n",
      "  'total': 318})\n"
     ]
    }
   ],
   "source": [
    "#if we assume one pokemon encounter per gym visit, and \n",
    "def add_p(dictionary):\n",
    "    sum_p = []\n",
    "    i = 1\n",
    "    for key in dictionary.iterkeys():\n",
    "        dictionary[i]['frequency'] = float(format((i / (10.0*i + i**2)), '.6f'))\n",
    "        sum_p.append(dictionary[i]['frequency'])\n",
    "        i=i+1\n",
    "    return sum(sum_p), dictionary[1]\n",
    "pprint(add_p(full_pokedex))"
   ]
  },
  {
   "cell_type": "code",
   "execution_count": null,
   "metadata": {
    "collapsed": true,
    "deletable": true,
    "editable": true
   },
   "outputs": [],
   "source": []
  }
 ],
 "metadata": {
  "anaconda-cloud": {},
  "kernelspec": {
   "display_name": "Python 2",
   "language": "python",
   "name": "python2"
  },
  "language_info": {
   "codemirror_mode": {
    "name": "ipython",
    "version": 2
   },
   "file_extension": ".py",
   "mimetype": "text/x-python",
   "name": "python",
   "nbconvert_exporter": "python",
   "pygments_lexer": "ipython2",
   "version": "2.7.12"
  }
 },
 "nbformat": 4,
 "nbformat_minor": 0
}
